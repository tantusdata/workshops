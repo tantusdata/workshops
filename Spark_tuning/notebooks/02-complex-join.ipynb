{
 "cells": [
  {
   "cell_type": "markdown",
   "metadata": {
    "application/vnd.databricks.v1+cell": {
     "cellMetadata": {
      "byteLimit": 2048000,
      "rowLimit": 10000
     },
     "inputWidgets": {},
     "nuid": "c9745d74-6198-4ef8-8038-11d99dd24731",
     "showTitle": false,
     "title": ""
    }
   },
   "source": [
    "# Complex join\n",
    "\n",
    "Our first `JOIN` example will cover joins with non-trivial predicate - one with anything beyond AND clauses and equality operations. Those may happen from time to time in your data pipelines.\n",
    "\n",
    "## Our example\n",
    "Our job is joining _orders_ with _stores_ to enrich data with stores' metadata. Some invoices are not generated in any of the stores, but online - we do not have any \"store\" for them, but also do not want to lose them. Doing a simple right outer join is also not an option - to ensure data quality we want to drop all not-null and not matched invoices. The current approach is very SQL-like: we specify join with condition described above.\n",
    "\n",
    "## The goal\n",
    "As you might seen (if you try running this example), this job is a bit slow. We will try to identify _why_, then optimize it. If you feel lost, try running the current implementation, then check the execution plan in the Spark UI."
   ]
  },
  {
   "cell_type": "code",
   "execution_count": 0,
   "metadata": {
    "application/vnd.databricks.v1+cell": {
     "cellMetadata": {
      "byteLimit": 2048000,
      "rowLimit": 10000
     },
     "inputWidgets": {},
     "nuid": "8178dd60-ee2d-4ac4-83ae-c4d44e0fb2ef",
     "showTitle": false,
     "title": ""
    }
   },
   "outputs": [],
   "source": [
    "import pyspark.sql.functions as F\n",
    "\n",
    "# Input data path - this is the data that you need to load.\n",
    "INPUT_ORDERS_PATH = \"/Volumes/tantusdata_playground/default/bde-2023/input/orders.parquet/\"\n",
    "INPUT_STORES_PATH = \"/Volumes/tantusdata_playground/default/bde-2023/input/stores.parquet/\"\n",
    "\n",
    "# Volume path - make sure you have created a volume for yourself.\n",
    "VOLUME_PATH = \"/Volumes/tantusdata_playground/default/test-user-001\"\n",
    "\n",
    "WRITE_PATH = f\"{VOLUME_PATH}/02-complex-join/products-with-stores.parquet\""
   ]
  },
  {
   "cell_type": "code",
   "execution_count": 0,
   "metadata": {
    "application/vnd.databricks.v1+cell": {
     "cellMetadata": {
      "byteLimit": 2048000,
      "rowLimit": 10000
     },
     "inputWidgets": {},
     "nuid": "c5338509-43b6-424e-a643-06c5a474858b",
     "showTitle": false,
     "title": ""
    }
   },
   "outputs": [],
   "source": [
    "orders = spark.read.parquet(INPUT_ORDERS_PATH)\n",
    "stores = spark.read.parquet(INPUT_STORES_PATH)\n",
    "\n",
    "# FixMe: try to optimize this join. Make sure to check the data being processed by this job.\n",
    "\n",
    "orders_with_stores = (orders\n",
    "    .join(stores.withColumnRenamed(\"storeID\", \"storeID_2\"), (F.col(\"storeID\") == F.col(\"storeID_2\")) | (F.col(\"storeID\") == -F.col(\"storeID_2\")))\n",
    "    .drop(\"storeID_2\")\n",
    ")\n",
    "\n",
    "orders_with_stores.write.mode(\"overwrite\").parquet(WRITE_PATH)"
   ]
  },
  {
   "cell_type": "markdown",
   "metadata": {
    "application/vnd.databricks.v1+cell": {
     "cellMetadata": {},
     "inputWidgets": {},
     "nuid": "7bbc1816-8551-432c-9edd-06f0e782eda2",
     "showTitle": false,
     "title": ""
    }
   },
   "source": [
    "## Assertions"
   ]
  },
  {
   "cell_type": "code",
   "execution_count": 0,
   "metadata": {
    "application/vnd.databricks.v1+cell": {
     "cellMetadata": {
      "byteLimit": 2048000,
      "rowLimit": 10000
     },
     "inputWidgets": {},
     "nuid": "13860455-8523-42d0-b472-22ddbbaa5a06",
     "showTitle": false,
     "title": ""
    }
   },
   "outputs": [],
   "source": [
    "assert(spark.read.parquet(WRITE_PATH).filter(\"storeID < 0\").count() == 374_236)\n",
    "assert(spark.read.parquet(WRITE_PATH).filter(\"storeID > 0\").count() == 2_125_523)"
   ]
  }
 ],
 "metadata": {
  "application/vnd.databricks.v1+notebook": {
   "dashboards": [],
   "language": "python",
   "notebookMetadata": {
    "pythonIndentUnit": 4
   },
   "notebookName": "02-complex-join",
   "widgets": {}
  }
 },
 "nbformat": 4,
 "nbformat_minor": 0
}
