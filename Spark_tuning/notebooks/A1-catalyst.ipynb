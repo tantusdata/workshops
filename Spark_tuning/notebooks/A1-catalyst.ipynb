{
 "cells": [
  {
   "cell_type": "markdown",
   "metadata": {
    "application/vnd.databricks.v1+cell": {
     "cellMetadata": {},
     "inputWidgets": {},
     "nuid": "c72d9aad-e7ad-4740-a2e7-f25d216e9e3c",
     "showTitle": false,
     "title": ""
    }
   },
   "source": [
    "# Cache vs Catalyst\n",
    "Cache is not a panacea for all performance issues. In fact it can _decrease_ performance instead of tweaking it. You can think of it as a barrier - `since _cache()` guarantees that the cached data will follow contract defined prior to its call, the Catalyst cannot move optimizations through this barrier.\n",
    "\n",
    "## The goal\n",
    "Run both implementations (both cells) and look for the difference in the Physical Plan.\n",
    "\n",
    "## Example query\n",
    "The source of the job example: https://stackoverflow.com/questions/57369904/spark-explicit-caching-can-interfere-with-catalyst-optimizers-ability-to-optim"
   ]
  },
  {
   "cell_type": "code",
   "execution_count": 0,
   "metadata": {
    "application/vnd.databricks.v1+cell": {
     "cellMetadata": {
      "byteLimit": 2048000,
      "rowLimit": 10000
     },
     "inputWidgets": {},
     "nuid": "a168bf7a-8cb9-4f31-a766-7b634712546f",
     "showTitle": false,
     "title": ""
    }
   },
   "outputs": [],
   "source": [
    "import pyspark.sql.functions as F\n",
    "rangeDF = spark.range(1000)"
   ]
  },
  {
   "cell_type": "code",
   "execution_count": 0,
   "metadata": {
    "application/vnd.databricks.v1+cell": {
     "cellMetadata": {
      "byteLimit": 2048000,
      "rowLimit": 10000
     },
     "inputWidgets": {},
     "nuid": "6dfeda7c-d93c-46bd-98a5-d3047e0737b0",
     "showTitle": false,
     "title": ""
    }
   },
   "outputs": [],
   "source": [
    "rangeDF.join(rangeDF, [\"id\"]).filter(F.col(\"id\") < 20).explain(True)"
   ]
  },
  {
   "cell_type": "code",
   "execution_count": 0,
   "metadata": {
    "application/vnd.databricks.v1+cell": {
     "cellMetadata": {
      "byteLimit": 2048000,
      "rowLimit": 10000
     },
     "inputWidgets": {},
     "nuid": "6a18da17-cce4-4449-b837-dcb4cd9d2c25",
     "showTitle": false,
     "title": ""
    }
   },
   "outputs": [],
   "source": [
    "rangeDF.join(rangeDF, [\"id\"]).cache().filter(F.col(\"id\") < 20).explain(True)"
   ]
  }
 ],
 "metadata": {
  "application/vnd.databricks.v1+notebook": {
   "dashboards": [],
   "language": "python",
   "notebookMetadata": {
    "pythonIndentUnit": 4
   },
   "notebookName": "A1-catalyst",
   "widgets": {}
  }
 },
 "nbformat": 4,
 "nbformat_minor": 0
}
