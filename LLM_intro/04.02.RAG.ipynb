{
 "cells": [
  {
   "cell_type": "code",
   "execution_count": 63,
   "metadata": {},
   "outputs": [
    {
     "data": {
      "text/plain": [
       "True"
      ]
     },
     "execution_count": 63,
     "metadata": {},
     "output_type": "execute_result"
    }
   ],
   "source": [
    "import dotenv\n",
    "\n",
    "dotenv.load_dotenv()"
   ]
  },
  {
   "cell_type": "markdown",
   "metadata": {},
   "source": [
    "### Data format\n",
    "\n",
    "Sometimes data is not available as plaintext but as pdf files.\n",
    "In this case one need to pay close attention to the format of extracted output. \n",
    "\n",
    "Tables from pdf files are often extracted as list of \n",
    "\n",
    "As an example we will use a small artifical table with subscription plans and two pages from the financial report of the European Investment Bank (EIB) which we also included in data folder.\n",
    "\n",
    "source:\n",
    "https://www.eib.org/attachments/lucalli/20220270_eib_financial_report_2022_en.pdf"
   ]
  },
  {
   "cell_type": "code",
   "execution_count": 4,
   "metadata": {},
   "outputs": [],
   "source": [
    "# those are installed with requirements.txt\n",
    "from langchain.document_loaders import PDFMinerLoader, PDFPlumberLoader, PyPDFLoader, UnstructuredPDFLoader\n",
    "\n",
    "# whole available list of loaders\n",
    "# each of them may require installation of additional packages\n",
    "# from langchain.document_loaders import (\n",
    "#     AmazonTextractPDFLoader,\n",
    "#     MathpixPDFLoader,\n",
    "#     OnlinePDFLoader,\n",
    "#     PDFMinerLoader,\n",
    "#     PDFMinerPDFasHTMLLoader,\n",
    "#     PDFPlumberLoader,\n",
    "#     PyMuPDFLoader,\n",
    "#     PyPDFDirectoryLoader,\n",
    "#     PyPDFium2Loader,\n",
    "#     PyPDFLoader,\n",
    "#     UnstructuredPDFLoader,\n",
    "# )"
   ]
  },
  {
   "cell_type": "code",
   "execution_count": 5,
   "metadata": {},
   "outputs": [],
   "source": [
    "PATH_SMALL = './data/small_table.pdf'\n",
    "PATH_BIG = './data/financial_graphs.pdf'\n",
    "# PATH_BIG = './data/financial_report.pdf'"
   ]
  },
  {
   "cell_type": "code",
   "execution_count": 9,
   "metadata": {},
   "outputs": [
    {
     "name": "stdout",
     "output_type": "stream",
     "text": [
      "Service Period Subscription Price\n",
      "TVmonthS 20 USD\n",
      "M 30 USD\n",
      "L 400 USD\n",
      "yearS 200 USD\n",
      "M 300 USD\n",
      "L 400 USD\n",
      "InternetmonthS 10 USD\n",
      "M 25 USD\n",
      "L 50 USD\n",
      "yearS 100 USD\n",
      "M 250 USD\n",
      "L 500 USD\n",
      "PhonemonthS 6 USD\n",
      "M 12 USD\n",
      "L 18 USD\n",
      "yearS 60 USD\n",
      "M 120 USD\n",
      "L 180 USD\n"
     ]
    }
   ],
   "source": [
    "# probably PyPDFLoader is the best\n",
    "\n",
    "# doc = PDFMinerLoader(PATH_SMALL).load()[0].page_content\n",
    "# doc = PDFPlumberLoader(PATH_SMALL).load()[0].page_content\n",
    "doc = PyPDFLoader(PATH_SMALL).load()[0].page_content\n",
    "# doc = UnstructuredPDFLoader(PATH_SMALL).load()[0].page_content\n",
    "\n",
    "print(doc)"
   ]
  },
  {
   "cell_type": "markdown",
   "metadata": {},
   "source": [
    "Let's check if the model can get the answer from this data."
   ]
  },
  {
   "cell_type": "code",
   "execution_count": 13,
   "metadata": {},
   "outputs": [
    {
     "data": {
      "text/plain": [
       "'The Internet S subscription price for one year is 100 USD.'"
      ]
     },
     "execution_count": 13,
     "metadata": {},
     "output_type": "execute_result"
    }
   ],
   "source": [
    "from langchain.prompts.chat import (\n",
    "    ChatPromptTemplate,\n",
    "    HumanMessagePromptTemplate,\n",
    "    SystemMessagePromptTemplate,\n",
    ")\n",
    "from langchain.chat_models import ChatOpenAI\n",
    "from langchain.schema import StrOutputParser\n",
    "\n",
    "system_template = \"\"\"Use the following pieces of context to answer the users question. \n",
    "If you don't know the answer, just say that you don't know, don't try to make up an answer.\n",
    "Check if the context is relevant to the question. If it is not, ust say that you don't know, don't try to make up an answer.\n",
    "----------------\n",
    "{context}\"\"\"\n",
    "messages = [\n",
    "    SystemMessagePromptTemplate.from_template(system_template),\n",
    "    HumanMessagePromptTemplate.from_template(\"{question}\"),\n",
    "]\n",
    "CHAT_PROMPT = ChatPromptTemplate.from_messages(messages)\n",
    "\n",
    "qa_chain = CHAT_PROMPT | ChatOpenAI(model='gpt-3.5-turbo', temperature=0.) | StrOutputParser()\n",
    "\n",
    "qa_chain.invoke({\n",
    "    'context': doc,\n",
    "    'question': \"What is the Internet S subscription price for one year?\"\n",
    "})"
   ]
  },
  {
   "cell_type": "code",
   "execution_count": 15,
   "metadata": {},
   "outputs": [
    {
     "data": {
      "text/plain": [
       "'The cheapest subscription price for one year for TV is 200 USD.'"
      ]
     },
     "execution_count": 15,
     "metadata": {},
     "output_type": "execute_result"
    }
   ],
   "source": [
    "qa_chain.invoke({\n",
    "    'context': doc,\n",
    "    'question': \"What is the cheapest subscription price for one year for TV?\"\n",
    "})"
   ]
  },
  {
   "cell_type": "code",
   "execution_count": null,
   "metadata": {},
   "outputs": [
    {
     "data": {
      "text/plain": [
       "'The Internet S subscription price for one year in Lithuania is 100 USD.'"
      ]
     },
     "execution_count": 12,
     "metadata": {},
     "output_type": "execute_result"
    }
   ],
   "source": [
    "qa_chain.invoke({\n",
    "    'context': doc,\n",
    "    'question': \"What is the Internet S subscription price for one year in Lithuania?\"\n",
    "})"
   ]
  },
  {
   "cell_type": "code",
   "execution_count": 16,
   "metadata": {},
   "outputs": [
    {
     "name": "stdout",
     "output_type": "stream",
     "text": [
      "3EUROPEAN INVESTMENT BANK: HIGHLIGHTS 2022Member StatesOther outside EU*Enlargement countriesEastern NeighbourhoodAfrica and Middle EastAsiaLatin America & Caribbean86%1%1%0%8%2%2%* Computed under CRR/CRD IV and based on the Bank’s standalone financial statements.Own funds of EUR 78 billion represent 14% of the balance sheet total.\n",
      "The increase in the CET1 ratio is largely driven by the positive development of the stock and the increase in Tier 1 capital generated from the annual surplus accumulation.OWN FUNDS COMPOSITION (EUR m) \n",
      "COMMON EQUITY TIER 1 CET1 RATIO*\n",
      "SIGNATURES BY REGION IN 202231/12/202231/12/2021Called capitalReservesProﬁt for the ﬁnancial year22 19122 19153 8782 36651 3122 566\n",
      "56 7629 327\n",
      "31/12/202231/12/202135.1%32.3%56 7629 327\n",
      "*  Other outside EU amounts to 0.04% and refers to signatures for counterparties located in Norway and Switzerland.\n"
     ]
    }
   ],
   "source": [
    "# doc2 = PDFMinerLoader(PATH_BIG).load()[0].page_content\n",
    "# doc2 = PDFPlumberLoader(PATH_BIG).load()[0].page_content\n",
    "doc2 = PyPDFLoader(PATH_BIG).load()[0].page_content\n",
    "# doc2 = UnstructuredPDFLoader(PATH_BIG).load()[0].page_content\n",
    "\n",
    "print(doc2)"
   ]
  },
  {
   "cell_type": "code",
   "execution_count": 17,
   "metadata": {},
   "outputs": [
    {
     "data": {
      "text/plain": [
       "'Based on the given information, the percentage of signatures from Asia in 2022 is not provided.'"
      ]
     },
     "execution_count": 17,
     "metadata": {},
     "output_type": "execute_result"
    }
   ],
   "source": [
    "qa_chain.invoke({\n",
    "    'context': doc2,\n",
    "    'question': \"What percentage of signatures per region in 2022 are from Asia?\"\n",
    "})\n",
    "\n",
    "# 8%"
   ]
  },
  {
   "cell_type": "code",
   "execution_count": 18,
   "metadata": {},
   "outputs": [
    {
     "data": {
      "text/plain": [
       "'The reason for the increase in the CET1 ratio is largely driven by the positive development of the stock and the increase in Tier 1 capital generated from the annual surplus accumulation.'"
      ]
     },
     "execution_count": 18,
     "metadata": {},
     "output_type": "execute_result"
    }
   ],
   "source": [
    "qa_chain.invoke({\n",
    "    'context': doc2,\n",
    "    'question': \"What is the reason for the increase in the CET1 ratio?\"\n",
    "})\n",
    "\n",
    "# The increase in the CET1 ratio is largely driven by the positive development of the stock and the increase in Tier 1 capital generated from the annual surplus accumulation."
   ]
  },
  {
   "cell_type": "markdown",
   "metadata": {},
   "source": [
    "### MetaData filters"
   ]
  },
  {
   "cell_type": "code",
   "execution_count": 22,
   "metadata": {},
   "outputs": [],
   "source": [
    "from langchain.embeddings.openai import OpenAIEmbeddings\n",
    "from langchain.vectorstores import Chroma\n",
    "from langchain.chat_models import ChatOpenAI\n",
    "\n",
    "from langchain.chains.query_constructor.schema import AttributeInfo\n",
    "from langchain.retrievers.self_query.base import SelfQueryRetriever\n",
    "from langchain.docstore.document import Document"
   ]
  },
  {
   "cell_type": "code",
   "execution_count": 23,
   "metadata": {},
   "outputs": [],
   "source": [
    "docs = [\n",
    "    Document(\n",
    "        page_content=\"doc content 1\",\n",
    "        metadata={\n",
    "            \"offer\": \"TV\",\n",
    "            \"period\": 'year',\n",
    "            \"is_available\": True,\n",
    "            \"subscription\": \"S\",\n",
    "            \"price\": 100\n",
    "        },\n",
    "    ),\n",
    "    Document(\n",
    "        page_content=\"doc content 2\",\n",
    "        metadata={\n",
    "            \"offer\": \"Internet\",\n",
    "            \"period\": 'year',\n",
    "            \"is_available\": True,\n",
    "            \"subscription\": \"M\",\n",
    "            \"price\": 250\n",
    "        },\n",
    "    ),\n",
    "    Document(\n",
    "        page_content=\"doc content 3\",\n",
    "        metadata={\n",
    "            \"offer\": \"Internet\",\n",
    "            \"period\": 'year',\n",
    "            \"is_available\": False,\n",
    "            \"subscription\": \"M\",\n",
    "            \"price\": 100\n",
    "        },\n",
    "    ),\n",
    "    Document(\n",
    "        page_content=\"doc content 4\",\n",
    "        metadata={\n",
    "            \"offer\": \"TV\",\n",
    "            \"period\": 'year',\n",
    "            \"is_available\": False,\n",
    "            \"subscription\": \"L\",\n",
    "            \"price\": 150\n",
    "        },\n",
    "    ),\n",
    "]\n",
    "\n",
    "metadata_field_info = [\n",
    "    AttributeInfo(\n",
    "        name=\"offer\",\n",
    "        description=\"The offer type, can be one of ['TV', 'Internet']\",\n",
    "        type=\"string\",\n",
    "    ),\n",
    "    AttributeInfo(\n",
    "        name=\"period\",\n",
    "        description=\"The period of the offer, can be one of ['year', 'month']\",\n",
    "        type=\"integer\",\n",
    "    ),\n",
    "    AttributeInfo(\n",
    "        name=\"is_available\",\n",
    "        description=\"Whether the offer is available\",\n",
    "        type=\"boolean\",\n",
    "    ),\n",
    "    AttributeInfo(\n",
    "        name=\"subscription\", \n",
    "        description=\"The subscription type, can be one of ['S', 'M', 'L']\", \n",
    "        type=\"string\"\n",
    "    ),\n",
    "    AttributeInfo(\n",
    "        name=\"price\",\n",
    "        description=\"The price of the offer\",\n",
    "        type=\"integer\",\n",
    "    ),\n",
    "]"
   ]
  },
  {
   "cell_type": "code",
   "execution_count": 25,
   "metadata": {},
   "outputs": [],
   "source": [
    "embeddings = OpenAIEmbeddings()\n",
    "\n",
    "vectorstore = Chroma.from_documents(docs, embeddings)\n",
    "\n",
    "llm = ChatOpenAI(model='gpt-3.5-turbo', temperature=0.)\n",
    "\n",
    "document_content_description = \"Details for all the products offers\"\n",
    "\n",
    "retriever = SelfQueryRetriever.from_llm(\n",
    "    llm, vectorstore, document_content_description, metadata_field_info, verbose=True\n",
    ")\n"
   ]
  },
  {
   "cell_type": "code",
   "execution_count": 29,
   "metadata": {},
   "outputs": [
    {
     "data": {
      "text/plain": [
       "StructuredQuery(query=' ', filter=Operation(operator=<Operator.AND: 'and'>, arguments=[Comparison(comparator=<Comparator.EQ: 'eq'>, attribute='offer', value='TV'), Comparison(comparator=<Comparator.EQ: 'eq'>, attribute='period', value=1), Comparison(comparator=<Comparator.EQ: 'eq'>, attribute='subscription', value='S')]), limit=None)"
      ]
     },
     "execution_count": 29,
     "metadata": {},
     "output_type": "execute_result"
    }
   ],
   "source": [
    "retriever.query_constructor.invoke(\n",
    "    {\n",
    "        \"query\" : \"What is the cheapest subscription for one year for TV?\"\n",
    "    })"
   ]
  },
  {
   "cell_type": "code",
   "execution_count": 27,
   "metadata": {},
   "outputs": [
    {
     "data": {
      "text/plain": [
       "StructuredQuery(query=' ', filter=Comparison(comparator=<Comparator.EQ: 'eq'>, attribute='is_available', value=False), limit=None)"
      ]
     },
     "execution_count": 27,
     "metadata": {},
     "output_type": "execute_result"
    }
   ],
   "source": [
    "retriever.query_constructor.invoke(\n",
    "    {\n",
    "        \"query\" : \"What are some unavailable offers?\"\n",
    "    })"
   ]
  }
 ],
 "metadata": {
  "kernelspec": {
   "display_name": "env",
   "language": "python",
   "name": "python3"
  },
  "language_info": {
   "codemirror_mode": {
    "name": "ipython",
    "version": 3
   },
   "file_extension": ".py",
   "mimetype": "text/x-python",
   "name": "python",
   "nbconvert_exporter": "python",
   "pygments_lexer": "ipython3",
   "version": "3.10.11"
  }
 },
 "nbformat": 4,
 "nbformat_minor": 2
}
