{
 "cells": [
  {
   "cell_type": "code",
   "execution_count": 1,
   "metadata": {},
   "outputs": [
    {
     "data": {
      "text/plain": [
       "True"
      ]
     },
     "execution_count": 1,
     "metadata": {},
     "output_type": "execute_result"
    }
   ],
   "source": [
    "import dotenv\n",
    "dotenv.load_dotenv()"
   ]
  },
  {
   "attachments": {},
   "cell_type": "markdown",
   "metadata": {},
   "source": [
    "# Retrieval Augmented Generation\n",
    "\n",
    "In this notebook we will build a chat bot which hold a conversation with a user and answer questions about a specific topic by retrieving relevant information from a knowledge base.\n",
    "\n",
    "We will use samples from [cnn_dailymail](https://huggingface.co/datasets/cnn_dailymail) dataset. In contains an article and its highlights so we will use the article as our knowledge base and the highlights to come up with a question to evaluate our chain.\n",
    "\n",
    "Let's see sample from the dataset:"
   ]
  },
  {
   "cell_type": "code",
   "execution_count": 2,
   "metadata": {},
   "outputs": [
    {
     "data": {
      "text/html": [
       "<div>\n",
       "<style scoped>\n",
       "    .dataframe tbody tr th:only-of-type {\n",
       "        vertical-align: middle;\n",
       "    }\n",
       "\n",
       "    .dataframe tbody tr th {\n",
       "        vertical-align: top;\n",
       "    }\n",
       "\n",
       "    .dataframe thead th {\n",
       "        text-align: right;\n",
       "    }\n",
       "</style>\n",
       "<table border=\"1\" class=\"dataframe\">\n",
       "  <thead>\n",
       "    <tr style=\"text-align: right;\">\n",
       "      <th></th>\n",
       "      <th>article</th>\n",
       "      <th>highlights</th>\n",
       "      <th>id</th>\n",
       "    </tr>\n",
       "  </thead>\n",
       "  <tbody>\n",
       "    <tr>\n",
       "      <th>0</th>\n",
       "      <td>LONDON, England (Reuters) -- Harry Potter star...</td>\n",
       "      <td>Harry Potter star Daniel Radcliffe gets £20M f...</td>\n",
       "      <td>42c027e4ff9730fbb3de84c1af0d2c506e41c3e4</td>\n",
       "    </tr>\n",
       "    <tr>\n",
       "      <th>1</th>\n",
       "      <td>Editor's note: In our Behind the Scenes series...</td>\n",
       "      <td>Mentally ill inmates in Miami are housed on th...</td>\n",
       "      <td>ee8871b15c50d0db17b0179a6d2beab35065f1e9</td>\n",
       "    </tr>\n",
       "    <tr>\n",
       "      <th>2</th>\n",
       "      <td>MINNEAPOLIS, Minnesota (CNN) -- Drivers who we...</td>\n",
       "      <td>NEW: \"I thought I was going to die,\" driver sa...</td>\n",
       "      <td>06352019a19ae31e527f37f7571c6dd7f0c5da37</td>\n",
       "    </tr>\n",
       "    <tr>\n",
       "      <th>3</th>\n",
       "      <td>WASHINGTON (CNN) -- Doctors removed five small...</td>\n",
       "      <td>Five small polyps found during procedure; \"non...</td>\n",
       "      <td>24521a2abb2e1f5e34e6824e0f9e56904a2b0e88</td>\n",
       "    </tr>\n",
       "    <tr>\n",
       "      <th>4</th>\n",
       "      <td>(CNN)  -- The National Football League has ind...</td>\n",
       "      <td>NEW: NFL chief, Atlanta Falcons owner critical...</td>\n",
       "      <td>7fe70cc8b12fab2d0a258fababf7d9c6b5e1262a</td>\n",
       "    </tr>\n",
       "  </tbody>\n",
       "</table>\n",
       "</div>"
      ],
      "text/plain": [
       "                                             article  \\\n",
       "0  LONDON, England (Reuters) -- Harry Potter star...   \n",
       "1  Editor's note: In our Behind the Scenes series...   \n",
       "2  MINNEAPOLIS, Minnesota (CNN) -- Drivers who we...   \n",
       "3  WASHINGTON (CNN) -- Doctors removed five small...   \n",
       "4  (CNN)  -- The National Football League has ind...   \n",
       "\n",
       "                                          highlights  \\\n",
       "0  Harry Potter star Daniel Radcliffe gets £20M f...   \n",
       "1  Mentally ill inmates in Miami are housed on th...   \n",
       "2  NEW: \"I thought I was going to die,\" driver sa...   \n",
       "3  Five small polyps found during procedure; \"non...   \n",
       "4  NEW: NFL chief, Atlanta Falcons owner critical...   \n",
       "\n",
       "                                         id  \n",
       "0  42c027e4ff9730fbb3de84c1af0d2c506e41c3e4  \n",
       "1  ee8871b15c50d0db17b0179a6d2beab35065f1e9  \n",
       "2  06352019a19ae31e527f37f7571c6dd7f0c5da37  \n",
       "3  24521a2abb2e1f5e34e6824e0f9e56904a2b0e88  \n",
       "4  7fe70cc8b12fab2d0a258fababf7d9c6b5e1262a  "
      ]
     },
     "execution_count": 2,
     "metadata": {},
     "output_type": "execute_result"
    }
   ],
   "source": [
    "import pandas as pd\n",
    "\n",
    "df = pd.read_csv('data/data.csv')\n",
    "\n",
    "df.head()"
   ]
  },
  {
   "cell_type": "code",
   "execution_count": 3,
   "metadata": {},
   "outputs": [
    {
     "name": "stdout",
     "output_type": "stream",
     "text": [
      "Harry Potter star Daniel Radcliffe gets £20M fortune as he turns 18 Monday .\n",
      "Young actor says he has no plans to fritter his cash away .\n",
      "Radcliffe's earnings from first five Potter films have been held in trust fund .\n",
      "\n",
      "\n",
      "LONDON, England (Reuters) -- Harry Potter star Daniel Radcliffe gains access to a reported £20 million ($41.1 million) fortune as he turns 18 on Monday, but he insists the money won't cast a spell on \n"
     ]
    }
   ],
   "source": [
    "print(df['highlights'][0])\n",
    "print(\"\\n\")\n",
    "print(df['article'][0][:200])"
   ]
  },
  {
   "attachments": {},
   "cell_type": "markdown",
   "metadata": {},
   "source": [
    "## Knowledge Base aka Vector Database\n",
    "\n",
    "We will use `OpenAI` embeddings library. Although those embeddings have context length of ~8K it is beneficial to split texts into smaller chunks in order to create more meaningfull embeddings and also lower the token usage when we inserting found chunks into the model together with the question to produce the answer. \n",
    "\n",
    "When splitting the texts we can set the overlap parameter which can help with assuring that the consequtive chunks and sentences in them have more context.\n",
    "\n",
    "We will store the vectors using Meta `FAISS` library, which provides a fast similarity search."
   ]
  },
  {
   "attachments": {},
   "cell_type": "markdown",
   "metadata": {},
   "source": [
    "Our implementation will follow `ConversationalRetrievalChain` which is one of predefined chains in LangChain, but we will build it using LangChain Expression Language."
   ]
  },
  {
   "cell_type": "code",
   "execution_count": 4,
   "metadata": {},
   "outputs": [],
   "source": [
    "from langchain.chains import ConversationalRetrievalChain"
   ]
  },
  {
   "attachments": {},
   "cell_type": "markdown",
   "metadata": {},
   "source": [
    "### High level overview\n",
    "\n",
    "\n",
    "\n",
    "<div style=\"display: flex; justify-content: space-between;\">\n",
    "    <div style=\"flex: 1; text-align: left;\">\n",
    "    <div style=\"flex: 1; text-align: center;\">\n",
    "<strong>What a user will see: </strong>\n",
    "</br> </br>\n",
    "user: Question 1 \n",
    "</br>\n",
    "bot: Answer 1 \n",
    "</br> </br>\n",
    "user: Question 2\n",
    "</br>\n",
    "bot: Answer 2\n",
    "</br> </br>\n",
    "user: Question 3\n",
    "</br>\n",
    "bot: ...\n",
    "    </div>\n",
    "    </div>\n",
    "    <div style=\"flex: 1; text-align: right;\">\n",
    "    <div style=\"flex: 1; text-align: center;\">\n",
    "<strong>What out chain will do to generate an answer:</strong>\n",
    "</br> </br>\n",
    "Step 1: Condensing the chat history with current question to standalone question:\n",
    "\n",
    "`{some system prompt}`\n",
    "</br>\n",
    "</br>\n",
    "`{chat_history}` \n",
    "</br>\n",
    "</br>\n",
    "`{Question 3}`\n",
    "</br> \n",
    "</br>\n",
    "`standalone question = ...`\n",
    "</br> \n",
    "</br>\n",
    "Step 2: Retrieving relevant information from the VectorDB\n",
    "\n",
    "`vectordb.similarity_search(standalone question)`\n",
    "</br> </br>\n",
    "Step 3: Generating an aswer using the retrieved information\n",
    "\n",
    "`{some system prompt}`\n",
    "</br>\n",
    "</br>\n",
    "`{context}`\n",
    "</br>\n",
    "</br>\n",
    "`{standalone question}`\n",
    "</br> \n",
    "</br>\n",
    "`Answer 3 = ... `\n",
    "    </div>\n",
    "    </div>\n",
    "</div>"
   ]
  },
  {
   "attachments": {},
   "cell_type": "markdown",
   "metadata": {},
   "source": [
    "### Why do we need to condense the chat history with current question to standalone question?\n",
    "\n",
    "Imagine sample conversation:\n",
    "<div style=\"flex: 1; text-align: center;\">\n",
    "user: How much did Daniel Radcliffe got as he turned 18?\n",
    "</br>\n",
    "bot: £20M\n",
    "</br>\n",
    "user: What was the reason?\n",
    "</div>\n",
    "\n",
    "If we were to just use \"What was the reason?\" as a query for similarity search we would get a lot of irrelevant results. Also using concatenation of the whole history with the current question may not be optimal in a long run, because of possible topics changes and too much noise. That is why we prompt the model to rephrase the whole history with the current question to a standalone one.\n",
    "\n",
    "Let's see how it works:"
   ]
  },
  {
   "cell_type": "code",
   "execution_count": 5,
   "metadata": {},
   "outputs": [
    {
     "data": {
      "text/plain": [
       "'What was the reason for Daniel Radcliffe receiving £20M as he turned 18?'"
      ]
     },
     "execution_count": 5,
     "metadata": {},
     "output_type": "execute_result"
    }
   ],
   "source": [
    "from langchain.chat_models import ChatOpenAI\n",
    "from langchain.prompts import (\n",
    "    ChatPromptTemplate,\n",
    "    MessagesPlaceholder,\n",
    "    HumanMessagePromptTemplate,\n",
    "    SystemMessagePromptTemplate,\n",
    ")\n",
    "from langchain.schema.messages import (\n",
    "    HumanMessage, \n",
    "    AIMessage, \n",
    "    SystemMessage\n",
    ")\n",
    "from langchain.schema.output_parser import StrOutputParser\n",
    "from langchain.memory import ConversationBufferMemory\n",
    "\n",
    "\n",
    "CONDENSE_QUESTION_PROMPT = ChatPromptTemplate.from_messages(\n",
    "    [\n",
    "        SystemMessage(content=\"Given the following conversation and a follow up question, rephrase the follow up question to be a standalone question.\"),\n",
    "        MessagesPlaceholder(variable_name=\"chat_history\"),\n",
    "        HumanMessagePromptTemplate.from_template(\"Follow Up Input:\\n{question}\\nStandalone question:\\n\"),\n",
    "    ]\n",
    ")\n",
    "\n",
    "condense_question_chain = CONDENSE_QUESTION_PROMPT | ChatOpenAI(model='gpt-3.5-turbo', temperature=0.0) | StrOutputParser()\n",
    "\n",
    "memory = ConversationBufferMemory(return_messages=True, memory_key=\"chat_history\")\n",
    "memory.save_context({\"question\": \"How much did Daniel Radcliffe got as he turned 18?\"}, {\"answer\": \"£20M\"})\n",
    "\n",
    "condense_question_chain.invoke({\n",
    "    \"chat_history\": memory.load_memory_variables(\"chat_history\")[\"chat_history\"],\n",
    "    # or just\n",
    "    # **memory.load_memory_variables(\"chat_history\"),\n",
    "    \"question\": \"What was the reason?\",\n",
    "})"
   ]
  },
  {
   "attachments": {},
   "cell_type": "markdown",
   "metadata": {},
   "source": [
    "## Vector Database\n",
    "\n",
    "To create Vector Database with out articles we need to:\n",
    "1. Split the articles into chunks\n",
    "2. Create embeddings for each chunk\n",
    "3. Store the embeddings in the Vector Database\n",
    "\n",
    "We will also cache the embeddings, so if you rerun this notebook with the same data and chunk parameters it will not need to recompute the embeddings.\n",
    "The cache is stored in RAM because for some reason LangChain file storage doesnt work with "
   ]
  },
  {
   "cell_type": "code",
   "execution_count": 6,
   "metadata": {},
   "outputs": [
    {
     "name": "stdout",
     "output_type": "stream",
     "text": [
      "Starting with 30 articles\n",
      "Splitted articles into 258 documents\n"
     ]
    }
   ],
   "source": [
    "from langchain.text_splitter import RecursiveCharacterTextSplitter\n",
    "\n",
    "text_splitter = RecursiveCharacterTextSplitter(\n",
    "    chunk_size = 512,\n",
    "    chunk_overlap  = 128,\n",
    ")\n",
    "\n",
    "print(f\"Starting with {len(df)} articles\")\n",
    "docs = text_splitter.create_documents(df['article'].values)\n",
    "print(f\"Splitted articles into {len(docs)} documents\")"
   ]
  },
  {
   "cell_type": "code",
   "execution_count": 7,
   "metadata": {},
   "outputs": [],
   "source": [
    "from langchain.vectorstores import FAISS\n",
    "from langchain.embeddings import CacheBackedEmbeddings, OpenAIEmbeddings\n",
    "from langchain.storage import LocalFileStore\n",
    "\n",
    "embeddings = CacheBackedEmbeddings.from_bytes_store(\n",
    "    underlying_embeddings=OpenAIEmbeddings(),\n",
    "    document_embedding_cache=LocalFileStore('./.cache/'),\n",
    "    namespace=\"RAG_embeddings\"\n",
    ")\n",
    "\n",
    "vecstore = FAISS.from_documents(\n",
    "    documents=docs,\n",
    "    embedding=embeddings,\n",
    ")"
   ]
  },
  {
   "cell_type": "code",
   "execution_count": 8,
   "metadata": {},
   "outputs": [
    {
     "data": {
      "text/plain": [
       "[Document(page_content='LONDON, England (Reuters) -- Harry Potter star Daniel Radcliffe gains access to a reported £20 million ($41.1 million) fortune as he turns 18 on Monday, but he insists the money won\\'t cast a spell on him. Daniel Radcliffe as Harry Potter in \"Harry Potter and the Order of the Phoenix\" To the disappointment of gossip columnists around the world, the young actor says he has no plans to fritter his cash away on fast cars, drink and celebrity parties. \"I don\\'t plan to be one of those people who, as soon as they'),\n",
       " Document(page_content='-- books and CDs and DVDs.\" At 18, Radcliffe will be able to gamble in a casino, buy a drink in a pub or see the horror film \"Hostel: Part II,\" currently six places below his number one movie on the UK box office chart. Details of how he\\'ll mark his landmark birthday are under wraps. His agent and publicist had no comment on his plans. \"I\\'ll definitely have some sort of party,\" he said in an interview. \"Hopefully none of you will be reading about it.\" Radcliffe\\'s earnings from the first five Potter films'),\n",
       " Document(page_content='fritter his cash away on fast cars, drink and celebrity parties. \"I don\\'t plan to be one of those people who, as soon as they turn 18, suddenly buy themselves a massive sports car collection or something similar,\" he told an Australian interviewer earlier this month. \"I don\\'t think I\\'ll be particularly extravagant. \"The things I like buying are things that cost about 10 pounds -- books and CDs and DVDs.\" At 18, Radcliffe will be able to gamble in a casino, buy a drink in a pub or see the horror film'),\n",
       " Document(page_content='said in an interview. \"Hopefully none of you will be reading about it.\" Radcliffe\\'s earnings from the first five Potter films have been held in a trust fund which he has not been able to touch. Despite his growing fame and riches, the actor says he is keeping his feet firmly on the ground. \"People are always looking to say \\'kid star goes off the rails,\\'\" he told reporters last month. \"But I try very hard not to go that way because it would be too easy for them.\" His latest outing as the boy wizard in')]"
      ]
     },
     "execution_count": 8,
     "metadata": {},
     "output_type": "execute_result"
    }
   ],
   "source": [
    "vecstore.similarity_search(\"What was the reason for Daniel Radcliffe receiving £20M as he turned 18?\", k=4)"
   ]
  },
  {
   "attachments": {},
   "cell_type": "markdown",
   "metadata": {},
   "source": [
    "As we can see, the answer is present just in 4-th document."
   ]
  },
  {
   "cell_type": "code",
   "execution_count": 9,
   "metadata": {},
   "outputs": [
    {
     "data": {
      "text/plain": [
       "[Document(page_content='security and stability, they said. There was running water and electricity most of the time. But still life was tough under the dictator, like the time when Zainab\\'s uncle disappeared and was never heard from again after he read a \"religious book,\" she said. Sitting in the parking lot of a Target in suburban Los Angeles, Youssif\\'s father watched as husbands and wives, boyfriends and girlfriends, parents and their children, came and went. Some held hands. Others smiled and laughed. \"Iraq finished,\" he said'),\n",
       " Document(page_content='boy is first and foremost. \"I will do anything for Youssif,\" his father said, pulling his son closer to him. \"Our child is everything.\" His mother tried to coax Youssif to talk to us on this day. But he didn\\'t want to; his mother says he\\'s shy outside of their home. The biggest obstacle now is getting the visas to leave, and the serious security risks they face every day and hour they remain in Iraq. But this family -- which saw the very worst in humanity on that January day -- has new hope in the world.'),\n",
       " Document(page_content='and jeans. They were snatched off the street by gunmen. The stories can be even more gruesome. The couple said they had heard reports that a young girl was kidnapped and beheaded --and her killers sewed a dog\\'s head on the corpse and delivered it to her family\\'s doorstep. \"These are just some of the stories,\" said Youssif\\'s mother, Zainab. Under Saddam Hussein, there was more security and stability, they said. There was running water and electricity most of the time. But still life was tough under the'),\n",
       " Document(page_content='in coming here?\" Youssif\\'s father said in amazement. \"Other than my wedding day, this is the happiest day of my life,\" he said. Just a day earlier, the mother and father talked about their journey out of Iraq and to the United States. They also discussed that day nine months ago when masked men grabbed their son outside the family home, doused him in gas and set him on fire. His mother heard her boy screaming from inside. The father sought help for his boy across Baghdad, but no one listened. He remembers')]"
      ]
     },
     "execution_count": 9,
     "metadata": {},
     "output_type": "execute_result"
    }
   ],
   "source": [
    "vecstore.similarity_search(\"What was the reason?\", k=4)"
   ]
  },
  {
   "attachments": {},
   "cell_type": "markdown",
   "metadata": {},
   "source": [
    "Let's try to search something about another article"
   ]
  },
  {
   "cell_type": "code",
   "execution_count": 10,
   "metadata": {},
   "outputs": [
    {
     "name": "stdout",
     "output_type": "stream",
     "text": [
      "NEW: NFL chief, Atlanta Falcons owner critical of Michael Vick's conduct .\n",
      "NFL suspends Falcons quarterback indefinitely without pay .\n",
      "Vick admits funding dogfighting operation but says he did not gamble .\n",
      "Vick due in federal court Monday; future in NFL remains uncertain .\n"
     ]
    }
   ],
   "source": [
    "print(df.iloc[4]['highlights'])"
   ]
  },
  {
   "cell_type": "code",
   "execution_count": 11,
   "metadata": {},
   "outputs": [
    {
     "data": {
      "text/plain": [
       "[Document(page_content='that he and two co-conspirators killed dogs that did not fight well. Falcons owner Arthur Blank said Vick\\'s admissions describe actions that are \"incomprehensible and unacceptable.\" The suspension makes \"a strong statement that conduct which tarnishes the good reputation of the NFL will not be tolerated,\" he said in a statement.  Watch what led to Vick\\'s suspension » . Goodell said the Falcons could \"assert any claims or remedies\" to recover $22 million of Vick\\'s signing bonus from the 10-year, $130'),\n",
       " Document(page_content='(CNN)  -- The National Football League has indefinitely suspended Atlanta Falcons quarterback Michael Vick without pay, officials with the league said Friday. NFL star Michael Vick is set to appear in court Monday. A judge will have the final say on a plea deal. Earlier, Vick admitted to participating in a dogfighting ring as part of a plea agreement with federal prosecutors in Virginia. \"Your admitted conduct was not only illegal, but also cruel and reprehensible. Your team, the NFL, and NFL fans have all'),\n",
       " Document(page_content='pit bull dogs. After Vick\\'s indictment last month, Goodell ordered the quarterback not to report to the Falcons training camp, and the league is reviewing the case. Blank told the NFL Network on Monday he could not speculate on Vick\\'s future as a Falcon, at least not until he had seen \"a statement of facts\" in the case.  E-mail to a friend . CNN\\'s Mike Phelan contributed to this report.'),\n",
       " Document(page_content='\"Your admitted conduct was not only illegal, but also cruel and reprehensible. Your team, the NFL, and NFL fans have all been hurt by your actions,\" NFL Commissioner Roger Goodell said in a letter to Vick. Goodell said he would review the status of the suspension after the legal proceedings are over. In papers filed Friday with a federal court in Virginia, Vick also admitted that he and two co-conspirators killed dogs that did not fight well. Falcons owner Arthur Blank said Vick\\'s admissions describe')]"
      ]
     },
     "execution_count": 11,
     "metadata": {},
     "output_type": "execute_result"
    }
   ],
   "source": [
    "vecstore.similarity_search(\"For how long are the Atlanta Falcons suspended?\", k=4)"
   ]
  },
  {
   "attachments": {},
   "cell_type": "markdown",
   "metadata": {},
   "source": [
    "### Question answering with context\n",
    "\n",
    "Vector Database in LangChain returns a list of documents. We have to parse it and provide as a context to the model together with the question.\n",
    "\n",
    "The simples way to do it is just to concatenate all the documents together and provide it as a context. \n",
    "A more advanced but also requiring additional LLM call solution would be to ask the model first to summarize and extract the most relevant parts regarding the question.\n",
    "We will go with the first approach for now. "
   ]
  },
  {
   "cell_type": "code",
   "execution_count": 12,
   "metadata": {},
   "outputs": [
    {
     "name": "stdout",
     "output_type": "stream",
     "text": [
      "LONDON, England (Reuters) -- Harry Potter star Daniel Radcliffe gains access to a reported £20 million ($41.1 million) fortune as he turns 18 on Monday, but he insists the money won't cast a spell on him. Daniel Radcliffe as Harry Potter in \"Harry Potter and the Order of the Phoenix\" To the disappointment of gossip columnists around the world, the young actor says he has no plans to fritter his cash away on fast cars, drink and celebrity parties. \"I don't plan to be one of those people who, as soon as they\n",
      "-- books and CDs and DVDs.\" At 18, Radcliffe will be able to gamble in a casino, buy a drink in a pub or see the horror film \"Hostel: Part II,\" currently six places below his number one movie on the UK box office chart. Details of how he'll mark his landmark birthday are under wraps. His agent and publicist had no comment on his plans. \"I'll definitely have some sort of party,\" he said in an interview. \"Hopefully none of you will be reading about it.\" Radcliffe's earnings from the first five Potter films\n",
      "fritter his cash away on fast cars, drink and celebrity parties. \"I don't plan to be one of those people who, as soon as they turn 18, suddenly buy themselves a massive sports car collection or something similar,\" he told an Australian interviewer earlier this month. \"I don't think I'll be particularly extravagant. \"The things I like buying are things that cost about 10 pounds -- books and CDs and DVDs.\" At 18, Radcliffe will be able to gamble in a casino, buy a drink in a pub or see the horror film\n",
      "said in an interview. \"Hopefully none of you will be reading about it.\" Radcliffe's earnings from the first five Potter films have been held in a trust fund which he has not been able to touch. Despite his growing fame and riches, the actor says he is keeping his feet firmly on the ground. \"People are always looking to say 'kid star goes off the rails,'\" he told reporters last month. \"But I try very hard not to go that way because it would be too easy for them.\" His latest outing as the boy wizard in\n"
     ]
    }
   ],
   "source": [
    "from operator import itemgetter\n",
    "from langchain.schema.runnable import RunnableLambda, RunnableMap\n",
    "\n",
    "get_context_chain = {\n",
    "    \"documents\": lambda inputs: vecstore.similarity_search(inputs[\"standalone_question\"], k=4)\n",
    "} | RunnableLambda(lambda inpts: \"\\n\".join([doc.page_content for doc in inpts[\"documents\"]]))\n",
    "\n",
    "context_resp = get_context_chain.invoke({\"standalone_question\": \"What was the reason for Daniel Radcliffe receiving £20M as he turned 18?\"})\n",
    "print(context_resp)"
   ]
  },
  {
   "cell_type": "code",
   "execution_count": 13,
   "metadata": {},
   "outputs": [
    {
     "data": {
      "text/plain": [
       "'Daniel Radcliffe received £20 million as he turned 18 because it was his accumulated earnings from starring in the first five Harry Potter films.'"
      ]
     },
     "execution_count": 13,
     "metadata": {},
     "output_type": "execute_result"
    }
   ],
   "source": [
    "QA_WITH_CONTEXT_PROMPT = ChatPromptTemplate.from_messages(\n",
    "    [\n",
    "        SystemMessagePromptTemplate.from_template(\"\"\"\\\n",
    "Use the following pieces of context to answer the users question. \\\n",
    "If you don't know the answer, just say that you don't know, don't try to make up an answer.\n",
    "Context:\n",
    "{context}\"\"\"),\n",
    "        HumanMessagePromptTemplate.from_template(\"{standalone_question}\"),\n",
    "    ]\n",
    ")\n",
    "\n",
    "qa_with_context_chain = QA_WITH_CONTEXT_PROMPT | ChatOpenAI(model='gpt-3.5-turbo', temperature=0.0) | StrOutputParser()\n",
    "\n",
    "qa_with_context_chain.invoke({\n",
    "    \"standalone_question\": \"What was the reason for Daniel Radcliffe receiving £20M as he turned 18?\",\n",
    "    \"context\": context_resp\n",
    "})"
   ]
  },
  {
   "attachments": {},
   "cell_type": "markdown",
   "metadata": {},
   "source": [
    "# Chain it all together\n",
    "\n",
    "As an exercise, your task is to chain all of those components into one.\n",
    "In contrast to notebook 02, where we had global memory object, this time we want to have a memory per conversation.\n",
    "\n",
    "To do so, we have to pass it as a parameter to the chain as input, and extract it from the chain output.\n",
    "And to make calling the chain more convenient, we will wrap it in a function which creates a new memory object per chain."
   ]
  },
  {
   "cell_type": "code",
   "execution_count": 14,
   "metadata": {},
   "outputs": [],
   "source": [
    "from typing import Dict, Any\n",
    "\n",
    "\n",
    "def step_1_condense_question(inputs: Dict[str, Any]) -> Dict[str, Any]:\n",
    "    chat_history = ...\n",
    "    question = ...\n",
    "\n",
    "    results = condense_question_chain.invoke(...)\n",
    "\n",
    "    return {\n",
    "        \"standalone_question\": ...\n",
    "    }\n",
    "\n",
    "def step_2_get_context(inputs: Dict[str, Any]) -> Dict[str, Any]:\n",
    "    standalone_question = ...\n",
    "\n",
    "    results = get_context_chain.invoke(...)\n",
    "\n",
    "    return {\n",
    "        \"context\": ...,\n",
    "        \"standalone_question\": standalone_question\n",
    "    }\n",
    "\n",
    "def step_3_qa_with_context(inputs: Dict[str, Any]) -> Dict[str, Any]:\n",
    "    standalone_question = ...\n",
    "    context = ...\n",
    "\n",
    "    results = qa_with_context_chain.invoke(...)\n",
    "\n",
    "    return {\n",
    "        \"answer\": ...\n",
    "    }\n",
    "\n",
    "def update_memory(inputs: Dict[str, Any]) -> Dict[str, Any]:\n",
    "    answer = ...\n",
    "    question = ...\n",
    "    memory = ...\n",
    "\n",
    "    memory.save_context({\"question\": question}, {\"answer\": answer})\n",
    "\n",
    "    return {\n",
    "        \"answer\": answer,\n",
    "        \"memory\": memory\n",
    "    }\n",
    "\n",
    "def get_new_chain():\n",
    "\n",
    "    memory = ConversationBufferMemory(return_messages=True, memory_key=\"chat_history\")\n",
    "\n",
    "    qa_with_rag_chain = RunnableMap({\n",
    "        \"answer\": RunnableLambda(step_1_condense_question) | RunnableLambda(step_2_get_context) | RunnableLambda(step_3_qa_with_context),\n",
    "        \"question\": itemgetter(\"question\"),\n",
    "        \"memory\": itemgetter(\"memory\")\n",
    "    }) | update_memory\n",
    "\n",
    "    def wrapper(question):    \n",
    "        results = qa_with_rag_chain.invoke({\n",
    "            \"question\": question,\n",
    "            \"memory\": memory\n",
    "        })\n",
    "\n",
    "        return results[\"answer\"]\n"
   ]
  },
  {
   "attachments": {},
   "cell_type": "markdown",
   "metadata": {},
   "source": [
    "Solution"
   ]
  },
  {
   "cell_type": "code",
   "execution_count": 15,
   "metadata": {},
   "outputs": [],
   "source": [
    "from typing import Dict, Any\n",
    "\n",
    "\n",
    "def step_1_condense_question(inputs: Dict[str, Any]) -> Dict[str, Any]:\n",
    "    chat_history = inputs['memory'].load_memory_variables(\"chat_history\")[\"chat_history\"]\n",
    "    question = inputs['question']\n",
    "\n",
    "    results = condense_question_chain.invoke({\n",
    "        \"chat_history\": chat_history,\n",
    "        \"question\": question\n",
    "    })\n",
    "\n",
    "    return {\n",
    "        \"standalone_question\": results\n",
    "    }\n",
    "\n",
    "def step_2_get_context(inputs: Dict[str, Any]) -> Dict[str, Any]:\n",
    "    standalone_question = inputs['standalone_question']\n",
    "\n",
    "    results = get_context_chain.invoke({\n",
    "        \"standalone_question\": standalone_question\n",
    "    })\n",
    "\n",
    "    return {\n",
    "        \"context\": results,\n",
    "        \"standalone_question\": standalone_question\n",
    "    }\n",
    "\n",
    "def step_3_qa_with_context(inputs: Dict[str, Any]) -> Dict[str, Any]:\n",
    "    standalone_question = inputs['standalone_question']\n",
    "    context = inputs['context']\n",
    "\n",
    "    results = qa_with_context_chain.invoke({\n",
    "        \"standalone_question\": standalone_question,\n",
    "        \"context\": context\n",
    "    })\n",
    "\n",
    "    return results\n",
    "\n",
    "def update_memory(inputs: Dict[str, Any]) -> Dict[str, Any]:\n",
    "    answer = inputs['answer']\n",
    "    question = inputs['question']\n",
    "    memory = inputs['memory']\n",
    "\n",
    "    memory.save_context({\"question\": question}, {\"answer\": answer})\n",
    "\n",
    "    return {\n",
    "        \"answer\": answer,\n",
    "        \"memory\": memory\n",
    "    }\n",
    "\n",
    "def get_new_chain():\n",
    "\n",
    "    memory = ConversationBufferMemory(return_messages=True, memory_key=\"chat_history\")\n",
    "\n",
    "    qa_with_rag_chain = RunnableMap({\n",
    "        \"answer\": RunnableLambda(step_1_condense_question) | RunnableLambda(step_2_get_context) | RunnableLambda(step_3_qa_with_context),\n",
    "        \"question\": itemgetter(\"question\"),\n",
    "        \"memory\": itemgetter(\"memory\")\n",
    "    }) | update_memory\n",
    "\n",
    "    def wrapper(question):    \n",
    "        results = qa_with_rag_chain.invoke({\n",
    "            \"question\": question,\n",
    "            \"memory\": memory\n",
    "        })\n",
    "\n",
    "        return results[\"answer\"]\n",
    "    \n",
    "    return wrapper\n"
   ]
  },
  {
   "cell_type": "code",
   "execution_count": 16,
   "metadata": {},
   "outputs": [],
   "source": [
    "chain = get_new_chain()"
   ]
  },
  {
   "cell_type": "code",
   "execution_count": 17,
   "metadata": {},
   "outputs": [
    {
     "data": {
      "text/plain": [
       "'Daniel Radcliffe gained access to a reported £20 million ($41.1 million) fortune when he turned 18.'"
      ]
     },
     "execution_count": 17,
     "metadata": {},
     "output_type": "execute_result"
    }
   ],
   "source": [
    "chain(\"How much did Daniel Radcliffe got as he turned 18?\")"
   ]
  },
  {
   "cell_type": "code",
   "execution_count": 18,
   "metadata": {},
   "outputs": [
    {
     "data": {
      "text/plain": [
       "'Daniel Radcliffe gained access to his reported £20 million ($41.1 million) fortune when he turned 18 because his earnings from the first five Harry Potter films were held in a trust fund, which he was not able to touch until he reached that age.'"
      ]
     },
     "execution_count": 18,
     "metadata": {},
     "output_type": "execute_result"
    }
   ],
   "source": [
    "chain(\"What was the reason?\")"
   ]
  },
  {
   "cell_type": "code",
   "execution_count": 19,
   "metadata": {},
   "outputs": [
    {
     "data": {
      "text/plain": [
       "ConversationBufferMemory(chat_memory=ChatMessageHistory(messages=[HumanMessage(content='How much did Daniel Radcliffe got as he turned 18?'), AIMessage(content='Daniel Radcliffe gained access to a reported £20 million ($41.1 million) fortune when he turned 18.'), HumanMessage(content='What was the reason?'), AIMessage(content='Daniel Radcliffe gained access to his reported £20 million ($41.1 million) fortune when he turned 18 because his earnings from the first five Harry Potter films were held in a trust fund, which he was not able to touch until he reached that age.')]), return_messages=True, memory_key='chat_history')"
      ]
     },
     "execution_count": 19,
     "metadata": {},
     "output_type": "execute_result"
    }
   ],
   "source": [
    "chain.__closure__[0].cell_contents"
   ]
  },
  {
   "cell_type": "code",
   "execution_count": 20,
   "metadata": {},
   "outputs": [],
   "source": [
    "chain2 = get_new_chain()"
   ]
  },
  {
   "cell_type": "code",
   "execution_count": 21,
   "metadata": {},
   "outputs": [
    {
     "data": {
      "text/plain": [
       "ConversationBufferMemory(return_messages=True, memory_key='chat_history')"
      ]
     },
     "execution_count": 21,
     "metadata": {},
     "output_type": "execute_result"
    }
   ],
   "source": [
    "chain2.__closure__[0].cell_contents"
   ]
  }
 ],
 "metadata": {
  "kernelspec": {
   "display_name": "env",
   "language": "python",
   "name": "python3"
  },
  "language_info": {
   "codemirror_mode": {
    "name": "ipython",
    "version": 3
   },
   "file_extension": ".py",
   "mimetype": "text/x-python",
   "name": "python",
   "nbconvert_exporter": "python",
   "pygments_lexer": "ipython3",
   "version": "3.10.11"
  },
  "orig_nbformat": 4
 },
 "nbformat": 4,
 "nbformat_minor": 2
}
