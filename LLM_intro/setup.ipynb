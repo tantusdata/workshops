{
 "cells": [
  {
   "cell_type": "markdown",
   "metadata": {},
   "source": [
    "## How to set up virtual environment and environment variables\n",
    "\n",
    "### 0. Check if you have Python >= 3.8.1 installed\n",
    "\n",
    "on Mac or Linux\n",
    "```\n",
    "python3 --version\n",
    "```\n",
    "on Windows\n",
    "```\n",
    "python --version\n",
    "```\n",
    "### 1. Set up virtual environment\n",
    "\n",
    "make sure that you are in the root directory of the project, the one that contains the all of the notebooks and requirements.txt file\n",
    "\n",
    "on Mac or Linux\n",
    "```\n",
    "python3 -m venv env\n",
    "```\n",
    "on Windows\n",
    "```\n",
    "python -m venv env\n",
    "```\n",
    "\n",
    "### 2. Activate virtual environment\n",
    "\n",
    "on Mac or Linux\n",
    "```\n",
    "source env/bin/activate\n",
    "```\n",
    "\n",
    "on Windows\n",
    "```\n",
    ".\\env\\Scripts\\activate\n",
    "```\n",
    "\n",
    "### 3. Install required packages\n",
    "\n",
    "Works on all platforms\n",
    "```\n",
    "pip install -r requirements.txt\n",
    "```\n",
    "\n",
    "### 4. Set up environment variables\n",
    "\n",
    "copy .env.example and rename it to .env and fill in the values"
   ]
  },
  {
   "cell_type": "markdown",
   "metadata": {},
   "source": [
    "## Set up your developer environment\n",
    "\n",
    "If you are using Visual Studio Code, you install the following extensions:\n",
    "\n",
    "[for jupyter notebooks](https://marketplace.visualstudio.com/items?itemName=ms-toolsai.jupyter)\n",
    "\n",
    "[Python IntelliSense](https://marketplace.visualstudio.com/items?itemName=ms-python.python)"
   ]
  }
 ],
 "metadata": {
  "language_info": {
   "name": "python"
  }
 },
 "nbformat": 4,
 "nbformat_minor": 2
}
