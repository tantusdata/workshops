{
 "cells": [
  {
   "cell_type": "markdown",
   "metadata": {},
   "source": [
    "## How to set up virtual environment and environment variables\n",
    "\n",
    "### 0. Check if you have 3.12 > Python >= 3.8.1 installed\n",
    "\n",
    "on Mac or Linux\n",
    "```\n",
    "python3 --version\n",
    "```\n",
    "on Windows\n",
    "```\n",
    "python --version\n",
    "```\n",
    "### 1. Set up virtual environment\n",
    "\n",
    "make sure that you are in the root directory of the project, the one that contains the all of the notebooks and requirements.txt file\n",
    "\n",
    "on Mac or Linux\n",
    "```\n",
    "python3 -m venv env\n",
    "```\n",
    "on Windows\n",
    "```\n",
    "python -m venv env\n",
    "```\n",
    "\n",
    "### 2. Activate virtual environment\n",
    "\n",
    "on Mac or Linux\n",
    "```\n",
    "source env/bin/activate\n",
    "```\n",
    "\n",
    "on Windows\n",
    "```\n",
    ".\\env\\Scripts\\activate\n",
    "```\n",
    "\n",
    "### 3. Install required packages\n",
    "\n",
    "Works on all platforms\n",
    "```\n",
    "pip install -r requirements.txt\n",
    "```\n",
    "\n",
    "### 4. Set up environment variables\n",
    "\n",
    "copy .env.example and rename it to .env and fill in the values"
   ]
  },
  {
   "cell_type": "markdown",
   "metadata": {},
   "source": [
    "We will use `GoogleSerperAPIWrapper` which is a wraper for Google search and gives much better results than free `DuckDuckGoSearchRun`.\n",
    "One additional setup step here is to create free account with 2500 free requests. In only requires confirming the email.\n",
    "Go to https://serper.dev , sing up, confirm email and copy the API key.\n",
    "Place in in .env file with name `SERPER_API_KEY`\n",
    "\n",
    "\n",
    "If you want, you can also register for free tier for Wolfram Alpha at https://developer.wolframalpha.com/ and create Simple App and copy its ID to .env file as `WOLFRAM_ALPHA_APPID`. This one is not necessary for the learning purposes but it will make the results more interesting.\n",
    "It gives you 2000 free requests per month."
   ]
  },
  {
   "cell_type": "markdown",
   "metadata": {},
   "source": [
    "## Set up your developer environment\n",
    "\n",
    "If you are using Visual Studio Code, you install the following extensions:\n",
    "\n",
    "[for jupyter notebooks](https://marketplace.visualstudio.com/items?itemName=ms-toolsai.jupyter)\n",
    "\n",
    "[Python IntelliSense](https://marketplace.visualstudio.com/items?itemName=ms-python.python)"
   ]
  },
  {
   "cell_type": "markdown",
   "metadata": {},
   "source": [
    "As a final test, in your IDE select jupyter kernel from the environment you just created and run the cell below to see if it works"
   ]
  },
  {
   "cell_type": "code",
   "execution_count": 3,
   "metadata": {},
   "outputs": [],
   "source": [
    "import os\n",
    "import langchain\n",
    "import openai\n",
    "import dotenv\n",
    "import sklearn\n",
    "import sentence_transformers"
   ]
  },
  {
   "cell_type": "code",
   "execution_count": 4,
   "metadata": {},
   "outputs": [],
   "source": [
    "if os.getenv(\"SERPER_API_KEY\") is None:\n",
    "    print(\"Serper API key not set!\")\n",
    "if os.getenv(\"WOLFRAM_ALPHA_APPID\") is None:\n",
    "    print(\"Wolfram Alpha App ID not set!\")"
   ]
  },
  {
   "cell_type": "code",
   "execution_count": null,
   "metadata": {},
   "outputs": [],
   "source": []
  }
 ],
 "metadata": {
  "kernelspec": {
   "display_name": "env",
   "language": "python",
   "name": "python3"
  },
  "language_info": {
   "codemirror_mode": {
    "name": "ipython",
    "version": 3
   },
   "file_extension": ".py",
   "mimetype": "text/x-python",
   "name": "python",
   "nbconvert_exporter": "python",
   "pygments_lexer": "ipython3",
   "version": "3.10.11"
  }
 },
 "nbformat": 4,
 "nbformat_minor": 2
}
