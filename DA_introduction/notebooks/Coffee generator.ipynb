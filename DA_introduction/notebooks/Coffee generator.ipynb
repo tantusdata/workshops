{
 "cells": [
  {
   "cell_type": "code",
   "execution_count": 0,
   "metadata": {
    "application/vnd.databricks.v1+cell": {
     "cellMetadata": {
      "byteLimit": 2048000,
      "rowLimit": 10000
     },
     "inputWidgets": {},
     "nuid": "9e20cebf-b42e-44e7-9f29-06f1c61c2dc2",
     "showTitle": false,
     "title": ""
    }
   },
   "outputs": [],
   "source": [
    "import calendar\n",
    "import datetime\n",
    "import numpy\n",
    "import random\n",
    "import uuid\n",
    "\n",
    "from pyspark.sql import DataFrame, Row\n",
    "from pyspark.sql import functions as F\n",
    "\n",
    "from pyspark.sql.types import StructType, StructField, StringType, IntegerType, DoubleType, DateType"
   ]
  },
  {
   "cell_type": "code",
   "execution_count": 0,
   "metadata": {
    "application/vnd.databricks.v1+cell": {
     "cellMetadata": {
      "byteLimit": 2048000,
      "rowLimit": 10000
     },
     "inputWidgets": {},
     "nuid": "a0111e91-8156-4a93-974b-ed1b4483ddd6",
     "showTitle": false,
     "title": ""
    }
   },
   "outputs": [],
   "source": [
    "rng = numpy.random.default_rng()\n",
    "\n",
    "def generate_day_of_month(year: int, month: int) -> datetime.date:\n",
    "    return int(random.randint(1, calendar.monthrange(year, month)[1]))\n",
    "\n",
    "def generate_date(year: int, month: int) -> datetime.date:\n",
    "    return datetime.date(year, month, generate_day_of_month(year, month)) \n",
    "\n",
    "def union_all(dataframes: list[DataFrame]) -> DataFrame | None:\n",
    "    if len(dataframes) == 1:\n",
    "        return dataframes[0]\n",
    "    else:\n",
    "        head, *tail = dataframes\n",
    "        return head.unionByName(union_all(tail))    "
   ]
  },
  {
   "cell_type": "code",
   "execution_count": 0,
   "metadata": {
    "application/vnd.databricks.v1+cell": {
     "cellMetadata": {
      "byteLimit": 2048000,
      "rowLimit": 10000
     },
     "inputWidgets": {},
     "nuid": "4fe7871f-1085-4da8-a6aa-ea76c3f6378d",
     "showTitle": false,
     "title": ""
    }
   },
   "outputs": [],
   "source": [
    "def coffees(\n",
    "    name: str,\n",
    "    coffee_type: str,\n",
    "    mug_size: str,\n",
    "    city: str,\n",
    "    count: int\n",
    ") -> Row:\n",
    "    return spark.createDataFrame([\n",
    "        Row(** {\n",
    "        \"name\": name,\n",
    "        \"date\": datetime.date(2023, 11, random.randint(1, 16)),\n",
    "        \"coffee_type\": coffee_type,\n",
    "        \"mug_size\": mug_size,\n",
    "        \"city\": city\n",
    "    }) for coffee in range(count)])"
   ]
  },
  {
   "cell_type": "code",
   "execution_count": 0,
   "metadata": {
    "application/vnd.databricks.v1+cell": {
     "cellMetadata": {
      "byteLimit": 2048000,
      "rowLimit": 10000
     },
     "inputWidgets": {},
     "nuid": "eeaaef77-7bb5-4209-86c3-b8691ababd87",
     "showTitle": false,
     "title": ""
    }
   },
   "outputs": [],
   "source": [
    "coffees = union_all([\n",
    "    coffees(\"Magda\", \"capuccino\", \"M\", \"Kraków\", 26),\n",
    "    coffees(\"Krzysztof\", \"espresso\", \"S\", \"Płock\", 31),\n",
    "    coffees(\"Anna\", \"lungo\", \"M\", \"Grudziądz\", 16),\n",
    "    coffees(\"Andrzej\", \"americano\", \"L\", \"Kalisz\", 70),\n",
    "    coffees(\"Joanna\", \"latte\", \"L\", \"Lublin\", 25),\n",
    "    coffees(\"Wojciech\", \"decaf\", \"L\", \"Szczecin\", 64),\n",
    "    coffees(\"Dominika\", \"lungo\", \"M\", \"Świebodzin\", 16),\n",
    "    coffees(\"Aneta\", \"capuccino\", \"M\", \"Legnica\", 9),\n",
    "    coffees(\"Artur\", \"espresso\", \"S\", \"Olsztyn\", 14),    \n",
    "    coffees(\"Mariusz\", \"americano\", \"L\", \"Kielce\", 36),\n",
    "    coffees(\"Maciej\", \"latte\", \"L\", \"Kraków\", 16),\n",
    "    coffees(\"Paulina\", \"decaf\", \"L\", \"Grudziądz\", 1),\n",
    "    coffees(\"Radosław\", \"americano\", \"L\", \"Kielce\", 11),\n",
    "    coffees(\"Katarzyna\", \"latte\", \"L\", \"Płock\", 42),\n",
    "    coffees(\"Jan\", \"espresso\", \"S\", \"Lublin\", 30),\n",
    "])"
   ]
  },
  {
   "cell_type": "code",
   "execution_count": 0,
   "metadata": {
    "application/vnd.databricks.v1+cell": {
     "cellMetadata": {
      "byteLimit": 2048000,
      "rowLimit": 10000
     },
     "inputWidgets": {},
     "nuid": "902ebcd4-2687-44c4-b73d-b53ffb374d47",
     "showTitle": false,
     "title": ""
    }
   },
   "outputs": [],
   "source": [
    "coffees.write.mode(\"overwrite\").option(\"overwriteSchema\", \"true\").saveAsTable(\"coffees\")"
   ]
  }
 ],
 "metadata": {
  "application/vnd.databricks.v1+notebook": {
   "dashboards": [],
   "language": "python",
   "notebookMetadata": {
    "pythonIndentUnit": 4
   },
   "notebookName": "Coffee generator",
   "widgets": {}
  }
 },
 "nbformat": 4,
 "nbformat_minor": 0
}
