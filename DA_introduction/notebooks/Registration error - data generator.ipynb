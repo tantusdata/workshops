{
 "cells": [
  {
   "cell_type": "code",
   "execution_count": 0,
   "metadata": {
    "application/vnd.databricks.v1+cell": {
     "cellMetadata": {
      "byteLimit": 2048000,
      "rowLimit": 10000
     },
     "inputWidgets": {},
     "nuid": "4133b9ec-cce3-43a2-8251-7935a671207d",
     "showTitle": false,
     "title": ""
    }
   },
   "outputs": [],
   "source": [
    "import calendar\n",
    "import datetime\n",
    "import numpy\n",
    "import random\n",
    "import uuid\n",
    "\n",
    "from pyspark.sql import DataFrame, Row\n",
    "from pyspark.sql import functions as F\n",
    "\n",
    "from pyspark.sql.types import StructType, StructField, StringType, IntegerType, DoubleType, DateType"
   ]
  },
  {
   "cell_type": "code",
   "execution_count": 0,
   "metadata": {
    "application/vnd.databricks.v1+cell": {
     "cellMetadata": {
      "byteLimit": 2048000,
      "rowLimit": 10000
     },
     "inputWidgets": {},
     "nuid": "0a676032-0279-4e74-9d1a-63f1634c24e1",
     "showTitle": false,
     "title": ""
    }
   },
   "outputs": [],
   "source": [
    "def union_all(dataframes: list[DataFrame]) -> DataFrame | None:\n",
    "    if len(dataframes) == 1:\n",
    "        return dataframes[0]\n",
    "    else:\n",
    "        head, *tail = dataframes\n",
    "        return head.unionByName(union_all(tail))"
   ]
  },
  {
   "cell_type": "code",
   "execution_count": 0,
   "metadata": {
    "application/vnd.databricks.v1+cell": {
     "cellMetadata": {
      "byteLimit": 2048000,
      "rowLimit": 10000
     },
     "inputWidgets": {},
     "nuid": "5cc0ece7-3bc2-41c8-9a9f-b0d43c8c6eac",
     "showTitle": false,
     "title": ""
    }
   },
   "outputs": [],
   "source": [
    "rng = numpy.random.default_rng()\n",
    "\n",
    "def generate_day_of_month(year: int, month: int) -> datetime.date:\n",
    "    return int(random.randint(1, calendar.monthrange(year, month)[1]))\n",
    "\n",
    "def generate_date(year: int, month: int) -> datetime.date:\n",
    "    return datetime.date(year, month, generate_day_of_month(year, month))    "
   ]
  },
  {
   "cell_type": "code",
   "execution_count": 0,
   "metadata": {
    "application/vnd.databricks.v1+cell": {
     "cellMetadata": {
      "byteLimit": 2048000,
      "rowLimit": 10000
     },
     "inputWidgets": {},
     "nuid": "e2d34d36-68fd-4fd5-8311-491a2623e872",
     "showTitle": false,
     "title": ""
    }
   },
   "outputs": [],
   "source": [
    "def event(\n",
    "    e_id: uuid.UUID | None = None, \n",
    "    e_type: str = \"OTHER\", \n",
    "    e_date: datetime.date = datetime.date.today(),\n",
    "    u_id: int | None = None,\n",
    "    u_location: str | None = None,\n",
    "    ua_os: str | None = None,\n",
    "    ua_version: str | None = None,\n",
    "    tx_location: int | None = None,\n",
    "    tx_price: float | None = None,\n",
    "    err_message: str | None = None\n",
    ") -> Row:\n",
    "    \n",
    "    if e_id is None:\n",
    "        e_id = uuid.uuid4()\n",
    "\n",
    "    return Row(** {\n",
    "        \"event_id\": str(e_id),\n",
    "        \"event_type\": e_type,\n",
    "        \"event_date\": e_date,\n",
    "        \"u_id\": u_id,\n",
    "        \"u_location\": u_location,\n",
    "        \"ua_os\": ua_os,\n",
    "        \"ua_version\": ua_version,\n",
    "        \"tx_location\": tx_location,\n",
    "        \"tx_price\": tx_price,\n",
    "        \"err_message\": err_message        \n",
    "    })\n",
    "\n",
    "\n",
    "EVENT_SCHEMA = StructType([\n",
    "    StructField(\"event_id\", StringType(), False), \n",
    "    StructField(\"event_type\", StringType(), False),\n",
    "    StructField(\"event_date\", DateType(), False),\n",
    "    StructField(\"u_id\", IntegerType(), True),\n",
    "    StructField(\"u_location\", StringType(), True),\n",
    "    StructField(\"ua_os\", StringType(), True),\n",
    "    StructField(\"ua_version\", StringType(), True),\n",
    "    StructField(\"tx_location\", IntegerType(), True),\n",
    "    StructField(\"tx_price\", DoubleType(), True),\n",
    "    StructField(\"err_message\", StringType(), True)\n",
    "])    "
   ]
  },
  {
   "cell_type": "code",
   "execution_count": 0,
   "metadata": {
    "application/vnd.databricks.v1+cell": {
     "cellMetadata": {
      "byteLimit": 2048000,
      "rowLimit": 10000
     },
     "inputWidgets": {},
     "nuid": "a5da3453-7171-4331-8923-047d283b4fbe",
     "showTitle": false,
     "title": ""
    }
   },
   "outputs": [],
   "source": [
    "def generate_events_app_installation() -> DataFrame:\n",
    "\n",
    "    def _generate(year: int, how_many: int, ua_os: str, ua_version: str, month_min: int = 1, month_max: int = 12) -> DataFrame:\n",
    "        return spark.createDataFrame([event(\n",
    "            e_type = \"APP_INSTALLATION\",\n",
    "            e_date = generate_date(year, random.randint(month_min, month_max)),\n",
    "            ua_version = ua_version,\n",
    "            ua_os = ua_os\n",
    "        ) for event_index in range(how_many)], EVENT_SCHEMA)\n",
    "\n",
    "    return union_all([\n",
    "        _generate(2020,  1200 + 1600 + 1800 + 3200 + 41, \"iOS\", \"1.0\"),\n",
    "        _generate(2021,  1600 + 1200 + 1600 + 3600 + 33, \"iOS\", \"1.1\"),\n",
    "        _generate(2022,  1400 + 1400 + 1600 + 3800 + 92, \"iOS\", \"1.2\"),\n",
    "        _generate(2023,  1500 + 1200 + 1300 + 3600 + 467, \"iOS\", \"1.3\", month_max = 11),\n",
    "\n",
    "        _generate(2020, 3200 + 2900 + 3600 + 7900 +  84, \"Android\", \"1.0.0\"),\n",
    "        _generate(2021, 3400 + 3200 + 3200 + 6800 +  30, \"Android\", \"1.1.0\"),\n",
    "        _generate(2022, 3200 + 2800 + 2700 + 4900 +  92, \"Android\", \"1.2.0\"),\n",
    "        _generate(2023, 3600 + 3400 + 3200 + 5200 + 120, \"Android\", \"1.3.0\", month_max = 10),\n",
    "        _generate(2023,  350 +  300  + 200  + 850 +   0, \"Android\", \"1.3.1\", month_min = 11, month_max = 11)\n",
    "    ])"
   ]
  },
  {
   "cell_type": "code",
   "execution_count": 0,
   "metadata": {
    "application/vnd.databricks.v1+cell": {
     "cellMetadata": {
      "byteLimit": 2048000,
      "rowLimit": 10000
     },
     "inputWidgets": {},
     "nuid": "777a38bf-d0ff-416f-9c56-88dbe4edfc7b",
     "showTitle": false,
     "title": ""
    }
   },
   "outputs": [],
   "source": [
    "def generate_events_account_created() -> DataFrame:\n",
    "    def _generate(year: int, how_many: int, max_uid: int, offset_uid: int, u_location: str, ua_os: str, ua_version: str, month_min: int = 1, month_max: int = 12) -> DataFrame:\n",
    "        return spark.createDataFrame([event(\n",
    "            e_type = \"ACCOUNT_CREATED\",\n",
    "            e_date = generate_date(year, random.randint(month_min, month_max)),\n",
    "            u_id = random.randint(1, max_uid) + offset_uid,\n",
    "            u_location = u_location,\n",
    "            ua_version = ua_version,\n",
    "            ua_os = ua_os\n",
    "        ) for event_index in range(how_many)], EVENT_SCHEMA)\n",
    "\n",
    "      \n",
    "    return union_all([\n",
    "        # iOS - Białystok\n",
    "        _generate(2020,  1200,  10_000,       0, \"Białystok\", \"iOS\", \"1.0\"),\n",
    "        _generate(2021,  1600,  10_000,  10_000, \"Białystok\", \"iOS\", \"1.1\"),\n",
    "        _generate(2022,  1400,  10_000,  20_000, \"Białystok\", \"iOS\", \"1.2\"),\n",
    "        _generate(2023,  1500,  10_000,  30_000, \"Białystok\", \"iOS\", \"1.3\", month_max = 11),\n",
    "\n",
    "        # iOS - Koszalin\n",
    "        _generate(2020,  1600,  10_000,  40_000, \"Koszalin\", \"iOS\", \"1.0\"),\n",
    "        _generate(2021,  1200,  10_000,  50_000, \"Koszalin\", \"iOS\", \"1.1\"),\n",
    "        _generate(2022,  1400,  10_000,  60_000, \"Koszalin\", \"iOS\", \"1.2\"),\n",
    "        _generate(2023,  1200,  10_000,  70_000, \"Koszalin\", \"iOS\", \"1.3\", month_max = 11),\n",
    "\n",
    "        # iOS - Lublin\n",
    "        _generate(2020,  1800,  10_000,  80_000, \"Lublin\", \"iOS\", \"1.0\"),\n",
    "        _generate(2021,  1600,  10_000,  90_000, \"Lublin\", \"iOS\", \"1.1\"),\n",
    "        _generate(2022,  1600,  10_000, 100_000, \"Lublin\", \"iOS\", \"1.2\"),\n",
    "        _generate(2023,  1300,  10_000, 110_000, \"Lublin\", \"iOS\", \"1.3\", month_max = 11),\n",
    "\n",
    "        # iOS - Warszawa\n",
    "        _generate(2020,  3200,  10_000, 120_000, \"Warszawa\", \"iOS\", \"1.0\"),\n",
    "        _generate(2021,  3600,  10_000, 130_000, \"Warszawa\", \"iOS\", \"1.1\"),\n",
    "        _generate(2022,  3800,  10_000, 140_000, \"Warszawa\", \"iOS\", \"1.2\"),\n",
    "        _generate(2023,  3600,  10_000, 150_000, \"Warszawa\", \"iOS\", \"1.3\", month_max = 11),\n",
    "\n",
    "\n",
    "        # Android - Białystok\n",
    "        _generate(2020,  3200,  10_000,  160_000, \"Białystok\", \"Android\", \"1.0.0\"),\n",
    "        _generate(2021,  3400,  10_000,  170_000, \"Białystok\", \"Android\", \"1.1.0\"),\n",
    "        _generate(2022,  3200,  10_000,  180_000, \"Białystok\", \"Android\", \"1.2.0\"),\n",
    "        _generate(2023,  3600,  10_000,  190_000, \"Białystok\", \"Android\", \"1.3.0\", month_max=10),\n",
    "        _generate(2023,  350,   10_000,  190_000, \"Białystok\", \"Android\", \"1.3.1\", month_min=11, month_max=11),\n",
    "\n",
    "        # Android - Koszalin\n",
    "        _generate(2020,  2900,  10_000,  200_000, \"Koszalin\", \"Android\", \"1.0.0\"),\n",
    "        _generate(2021,  3200,  10_000,  210_000, \"Koszalin\", \"Android\", \"1.1.0\"),\n",
    "        _generate(2022,  2800,  10_000,  220_000, \"Koszalin\", \"Android\", \"1.2.0\"),     \n",
    "        _generate(2023,  3400,  10_000,  230_000, \"Koszalin\", \"Android\", \"1.3.0\", month_max=10),\n",
    "        _generate(2023,  300,   10_000,  240_000, \"Koszalin\", \"Android\", \"1.3.1\", month_min=11, month_max=11),\n",
    "\n",
    "        # Android - Lublin\n",
    "        _generate(2020,   3600,  10_000,  250_000, \"Lublin\", \"Android\", \"1.0.0\"),\n",
    "        _generate(2021,   3200,  10_000,  260_000, \"Lublin\", \"Android\", \"1.1.0\"),\n",
    "        _generate(2022,   2700,  10_000,  270_000, \"Lublin\", \"Android\", \"1.2.0\"),      \n",
    "        _generate(2023,   3200,  10_000,  280_000, \"Lublin\", \"Android\", \"1.3.0\", month_max=10),\n",
    "        _generate(2023,   200,   10_000,  290_000, \"Lublin\", \"Android\", \"1.3.1\", month_min=11, month_max=11),\n",
    "\n",
    "        # Android - Warszawa\n",
    "        _generate(2020,  7900,  10_000,  300_000, \"Warszawa\", \"Android\", \"1.0.0\"),\n",
    "        _generate(2021,  6800,  10_000,  310_000, \"Warszawa\", \"Android\", \"1.1.0\"),\n",
    "        _generate(2022,  4900,  10_000,  320_000, \"Warszawa\", \"Android\", \"1.2.0\"),      \n",
    "        _generate(2023,  5200,  10_000,  330_000, \"Warszawa\", \"Android\", \"1.3.0\", month_max=10),\n",
    "        _generate(2023,    60,  10_000,  340_000, \"Koszalin\", \"Android\", \"1.3.1\", month_min=11, month_max=11)\n",
    "    ])"
   ]
  },
  {
   "cell_type": "code",
   "execution_count": 0,
   "metadata": {
    "application/vnd.databricks.v1+cell": {
     "cellMetadata": {
      "byteLimit": 2048000,
      "rowLimit": 10000
     },
     "inputWidgets": {},
     "nuid": "deb27951-47ae-4a44-b7c1-0eafe97d3b6e",
     "showTitle": false,
     "title": ""
    }
   },
   "outputs": [],
   "source": [
    "def generate_events_error() -> DataFrame:\n",
    "\n",
    "    all_errors = [\n",
    "        \"Other error\",\n",
    "\n",
    "        \"Invalid street name: Jana Pawla 2\",\n",
    "        \"Invalid street name: Krakwska\",\n",
    "        \"Invalid street name: \",\n",
    "        \"Invalid street name: dworcowa\",\n",
    "        \"Invalid street name: CH Sienkiewicza\",\n",
    "        \"Invalid street name: targowa\",\n",
    "        \"Invalid street name: Poznań\",\n",
    "\n",
    "        \"Invalid value: NaN\",\n",
    "        \"Invalid street name: name can't be shorter than 90 characters\",\n",
    "    ]\n",
    "\n",
    "    famous_error_1 = \"Invalid street name: ꯕꯦꯅꯥꯒꯥ ꯂꯣꯌꯅꯅꯥ ꯄꯦꯅꯀꯦꯛ꯫\"\n",
    "    famous_error_2 = \"Invalid street name: Al. Niepodległości\"\n",
    "    famous_error_3 = \"Invalid street name: Aleja Niepodległości\"\n",
    "    famous_error_4 = \"Invalid street name: Aleje Niepodleglosci\"\n",
    "\n",
    "    def _generate(year: int, how_many: int, min_uid: int, max_uid: int, u_location: str, ua_os: str, ua_version: str, error: str | None, month_min: int = 1, month_max: int = 12) -> DataFrame:\n",
    "        return spark.createDataFrame([event(\n",
    "            e_type = \"REGISTRATION_ERROR\",\n",
    "            e_date = generate_date(year, random.randint(month_min, month_max)),\n",
    "            u_id = random.randrange(min_uid, max_uid),\n",
    "            u_location = u_location,\n",
    "            ua_version = ua_version,\n",
    "            ua_os = ua_os,\n",
    "            err_message = (error or str(rng.choice(all_errors, 1)[0]))\n",
    "        ) for event_index in range(how_many)], EVENT_SCHEMA)\n",
    "\n",
    "    return union_all([\n",
    "        _generate(2020,    5,      0,   10_000, \"Białystok\", \"iOS\", \"1.0\", None),\n",
    "        _generate(2021,    3,  10_000,  20_000, \"Białystok\", \"iOS\", \"1.1\", None),\n",
    "        _generate(2022,    8,  20_000,  30_000, \"Białystok\", \"iOS\", \"1.2\", None),\n",
    "        _generate(2023,   16,  30_000,  40_000, \"Białystok\", \"iOS\", \"1.3\", None, month_max = 11),\n",
    "\n",
    "        # iOS - Koszalin\n",
    "        _generate(2020,    5,  40_000,  50_000, \"Koszalin\", \"iOS\", \"1.0\", None),\n",
    "        _generate(2021,    3,  50_000,  60_000, \"Koszalin\", \"iOS\", \"1.1\", None),\n",
    "        _generate(2022,    8,  60_000,  70_000, \"Koszalin\", \"iOS\", \"1.2\", None),\n",
    "        _generate(2023,   16,  70_000,  80_000, \"Koszalin\", \"iOS\", \"1.3\", None, month_max = 11),\n",
    "\n",
    "        # iOS - Lublin\n",
    "        _generate(2020,    4,  80_000,  90_000, \"Lublin\", \"iOS\", \"1.0\", None),\n",
    "        _generate(2021,    8,  90_000, 100_000, \"Lublin\", \"iOS\", \"1.1\", None),\n",
    "        _generate(2022,    5, 100_000, 110_000, \"Lublin\", \"iOS\", \"1.2\", None),\n",
    "        _generate(2023,    3, 110_000, 120_000, \"Lublin\", \"iOS\", \"1.3\", None, month_max = 11),\n",
    "\n",
    "        # iOS - Warszawa\n",
    "        _generate(2020,    8, 120_000, 130_000, \"Warszawa\", \"iOS\", \"1.0\", None),\n",
    "        _generate(2021,   20, 130_000, 140_000, \"Warszawa\", \"iOS\", \"1.1\", None),\n",
    "        _generate(2022,   17, 140_000, 150_000, \"Warszawa\", \"iOS\", \"1.2\", None),\n",
    "        _generate(2023,   24, 150_000, 160_000, \"Warszawa\", \"iOS\", \"1.3\", None, month_max = 11),\n",
    "\n",
    "\n",
    "        # Android - Białystok\n",
    "        _generate(2020,    9, 160_000,  170_000, \"Białystok\", \"Android\", \"1.0.0\", None),\n",
    "        _generate(2021,   16, 170_000,  180_000, \"Białystok\", \"Android\", \"1.1.0\", None),\n",
    "        _generate(2022,    0, 180_000,  190_000, \"Białystok\", \"Android\", \"1.2.0\", None),       \n",
    "        _generate(2023,   13, 190_000,  200_000, \"Białystok\", \"Android\", \"1.3.0\", None, month_max = 11),\n",
    "\n",
    "        # Android - Koszalin\n",
    "        _generate(2020,   12, 200_000,  210_000, \"Koszalin\", \"Android\", \"1.0.0\", None),\n",
    "        _generate(2021,   16, 210_000,  220_000, \"Koszalin\", \"Android\", \"1.1.0\", None),\n",
    "        _generate(2022,    3, 220_000,  230_000, \"Koszalin\", \"Android\", \"1.2.0\", None),      \n",
    "        _generate(2023,   22, 230_000,  240_000, \"Koszalin\", \"Android\", \"1.3.0\", None, month_max = 11),\n",
    "\n",
    "        # Android - Lublin\n",
    "        _generate(2020,   9, 240_000,  250_000, \"Lublin\", \"Android\", \"1.0.0\", None),\n",
    "        _generate(2021,  15, 250_000,  260_000, \"Lublin\", \"Android\", \"1.1.0\", None),\n",
    "        _generate(2022,   0, 260_000,  270_000, \"Lublin\", \"Android\", \"1.2.0\", None),      \n",
    "        _generate(2023,  10, 270_000,  280_000, \"Lublin\", \"Android\", \"1.3.0\", None, month_max = 11),\n",
    "\n",
    "        # Android - Warszawa\n",
    "        _generate(2020,  35, 280_000, 290_000, \"Warszawa\", \"Android\", \"1.0.0\", None),\n",
    "        _generate(2021,  33, 290_000, 300_000, \"Warszawa\", \"Android\", \"1.1.0\", None),\n",
    "        _generate(2021, 985, 290_324, 290_564, \"Warszawa\", \"Android\", \"1.1.0\", famous_error_1, month_min = 6, month_max = 6),\n",
    "        _generate(2022,  44, 300_000, 310_000, \"Warszawa\", \"Android\", \"1.3.0\", None),\n",
    "        _generate(2023,   6, 310_000, 320_000, \"Warszawa\", \"Android\", \"1.3.0\", None,           month_min = 1, month_max =  10),\n",
    "        _generate(2023, 430, 320_000, 330_000, \"Warszawa\", \"Android\", \"1.3.1\", famous_error_2, month_min = 11, month_max = 11),\n",
    "        _generate(2023, 385, 320_000, 330_000, \"Warszawa\", \"Android\", \"1.3.1\", famous_error_3, month_min = 11, month_max = 11),\n",
    "        _generate(2023, 550, 320_000, 330_000, \"Warszawa\", \"Android\", \"1.3.1\", famous_error_4, month_min = 11, month_max = 11),\n",
    "        _generate(2023,  26, 330_000, 340_000, \"Warszawa\", \"Android\", \"1.3.1\", None,           month_min = 11, month_max = 11) \n",
    "    ])"
   ]
  },
  {
   "cell_type": "code",
   "execution_count": 0,
   "metadata": {
    "application/vnd.databricks.v1+cell": {
     "cellMetadata": {
      "byteLimit": 2048000,
      "rowLimit": 10000
     },
     "inputWidgets": {},
     "nuid": "5623dc79-bbf5-424f-a7c9-b658d645241b",
     "showTitle": false,
     "title": ""
    }
   },
   "outputs": [],
   "source": [
    "def generate_events_login() -> DataFrame:\n",
    "    def _generate(year: int, how_many: int, max_uid: int, offset_uid: int, ua_os: str, ua_version: str, month_min: int = 1, month_max: int = 12) -> DataFrame:\n",
    "        return spark.createDataFrame([event(\n",
    "            e_type = \"LOGIN\",\n",
    "            e_date = generate_date(year, random.randint(month_min, month_max)),\n",
    "            u_id = random.randint(1, max_uid) + offset_uid,\n",
    "            ua_version = ua_version,\n",
    "            ua_os = ua_os\n",
    "        ) for event_index in range(how_many)], EVENT_SCHEMA)\n",
    "\n",
    "    def _generate_spam(how_many: int) -> DataFrame:\n",
    "        return spark.createDataFrame([event(\n",
    "            e_type = \"LOGIN\",\n",
    "            e_date = generate_date(2023, 11),\n",
    "            u_id = 49_392,\n",
    "            ua_version = \"1.3\",\n",
    "            ua_os = \"iOS\"\n",
    "        ) for event_index in range(how_many)], EVENT_SCHEMA)\n",
    "       \n",
    "    return union_all([\n",
    "        _generate(2020,  8_000, 1_000, 0, \"iOS\", \"1.0\"),\n",
    "        _generate(2021, 10_000,   850, 0, \"iOS\", \"1.1\"),\n",
    "        _generate(2022, 15_000, 1_050, 0, \"iOS\", \"1.2\"),\n",
    "        _generate(2023, 20_000, 1_230, 0, \"iOS\", \"1.3\", month_max = 11),\n",
    "\n",
    "        _generate(2020, 15_000,  3_000, 50_000, \"Android\", \"1.0.0\"),\n",
    "        _generate(2021, 20_000,  7_000, 50_000, \"Android\", \"1.1.0\"),\n",
    "        _generate(2022,  6_000,  9_500, 50_000, \"Android\", \"1.2.0\", month_min = 1, month_max =  2),\n",
    "        _generate(2022, 30_000,  9_500, 50_000, \"Android\", \"1.2.1\", month_min = 3, month_max = 12),\n",
    "        _generate(2023, 35_000, 12_000, 50_000, \"Android\", \"1.3.0\", month_max = 11),\n",
    "\n",
    "        _generate_spam(13_300)\n",
    "    ])"
   ]
  },
  {
   "cell_type": "code",
   "execution_count": 0,
   "metadata": {
    "application/vnd.databricks.v1+cell": {
     "cellMetadata": {
      "byteLimit": 2048000,
      "rowLimit": 10000
     },
     "inputWidgets": {},
     "nuid": "96551e3f-d459-4b5c-96b1-2dec673f774d",
     "showTitle": false,
     "title": ""
    }
   },
   "outputs": [],
   "source": [
    "def generate_events_transaction() -> DataFrame:\n",
    "    def _generate(year: int, how_many: int, max_uid: int, offset_uid: int, ua_os: str, ua_version: str, month_min: int = 1, month_max: int = 12) -> DataFrame:\n",
    "        return spark.createDataFrame([event(\n",
    "            e_type = \"TRANSACTION\",\n",
    "            e_date = generate_date(year, random.randint(month_min, month_max)),\n",
    "            u_id = random.randint(1, max_uid) + offset_uid,\n",
    "            u_location = str(rng.choice([\"Warszawa\", \"Warszawa\", \"Warszawa\", \"Koszalin\", \"Białystok\", \"Lublin\"], 1)[0]),\n",
    "            ua_version = ua_version,\n",
    "            ua_os = ua_os,\n",
    "            tx_location = random.randint(1, 10_000),\n",
    "            tx_price = (lambda os: random.randint(100, 500_000) / 100.0 if os == \"iOS\" else random.randint(500, 250_000) / 100.0)(ua_os)\n",
    "        ) for event_index in range(how_many * random.randint(1, 3))], EVENT_SCHEMA)\n",
    "       \n",
    "    return union_all([\n",
    "        _generate(2020,  8_000, 1_000, 0, \"iOS\", \"1.0\"),\n",
    "        _generate(2021, 10_000,   850, 0, \"iOS\", \"1.1\"),\n",
    "        _generate(2022, 15_000, 1_050, 0, \"iOS\", \"1.2\"),\n",
    "        _generate(2023, 20_000, 1_230, 0, \"iOS\", \"1.3\", month_max = 11),\n",
    "\n",
    "        _generate(2020, 15_000,  3_000, 50_000, \"Android\", \"1.0.0\"),\n",
    "        _generate(2021, 20_000,  7_000, 50_000, \"Android\", \"1.1.0\"),\n",
    "        _generate(2022,    200,  9_500, 50_000, \"Android\", \"1.2.0\", month_min = 1, month_max =  2),\n",
    "        _generate(2022, 30_000,  9_500, 50_000, \"Android\", \"1.2.1\", month_min = 3, month_max = 12),\n",
    "        _generate(2023, 35_000, 12_000, 50_000, \"Android\", \"1.3.0\", month_max = 11)\n",
    "    ])"
   ]
  },
  {
   "cell_type": "code",
   "execution_count": 0,
   "metadata": {
    "application/vnd.databricks.v1+cell": {
     "cellMetadata": {
      "byteLimit": 2048000,
      "rowLimit": 10000
     },
     "inputWidgets": {},
     "nuid": "2742ec30-63fd-430d-9c13-13d71e3d985a",
     "showTitle": false,
     "title": ""
    }
   },
   "outputs": [],
   "source": [
    "USERS_WITH_STORIES = [x + 500_000 for x in [103, 105, 312, 478, 579, 610, 777, 810]]\n",
    "\n",
    "events = []\n",
    "\n",
    "for user_id in USERS_WITH_STORIES:\n",
    "    retries = int(random.randint(2, 6))\n",
    "    error = str(rng.choice([\"Invalid street name: Al. Niepodległości\", \"Invalid street name: Aleja Niepodległości\", \"Invalid street name: Aleje Niepodleglosci\"], 1)[0])\n",
    "    day = random.randint(1, 20)\n",
    "\n",
    "    events.append(event(\n",
    "        e_type = \"ACCOUNT_CREATED\",\n",
    "        e_date = datetime.date(2023, 11, day),\n",
    "        u_id = int(user_id),\n",
    "        u_location = \"Warszawa\",\n",
    "        ua_version = \"1.3.1\",\n",
    "        ua_os = \"Android\"\n",
    "    ))\n",
    "\n",
    "    for r in range(random.randint(2, 6)):\n",
    "        for retry in range(random.randint(5, 8)):\n",
    "            events.append(event(\n",
    "                e_type = \"REGISTRATION_ERROR\",\n",
    "                e_date = datetime.date(2023, 11, day + r + 1),\n",
    "                u_id = int(user_id),\n",
    "                u_location = \"Warszawa\",\n",
    "                ua_version = \"1.3.1\",\n",
    "                ua_os = \"Android\",\n",
    "                err_message = error\n",
    "            ))"
   ]
  },
  {
   "cell_type": "code",
   "execution_count": 0,
   "metadata": {
    "application/vnd.databricks.v1+cell": {
     "cellMetadata": {
      "byteLimit": 2048000,
      "rowLimit": 10000
     },
     "inputWidgets": {},
     "nuid": "5b6d5155-dad7-4e62-87ca-94c9ab0d4ada",
     "showTitle": false,
     "title": ""
    }
   },
   "outputs": [],
   "source": [
    "generate_events_app_installation().write.mode(\"overwrite\").saveAsTable(\"events\")\n",
    "generate_events_account_created().write.mode(\"append\").saveAsTable(\"events\")\n",
    "generate_events_error().write.mode(\"append\").saveAsTable(\"events\")\n",
    "generate_events_login().write.mode(\"append\").saveAsTable(\"events\")\n",
    "generate_events_transaction().write.mode(\"append\").saveAsTable(\"events\")\n",
    "\n",
    "spark.createDataFrame(events, EVENT_SCHEMA).write.mode(\"append\").saveAsTable(\"events\")"
   ]
  },
  {
   "cell_type": "code",
   "execution_count": 0,
   "metadata": {
    "application/vnd.databricks.v1+cell": {
     "cellMetadata": {
      "byteLimit": 2048000,
      "rowLimit": 10000
     },
     "inputWidgets": {},
     "nuid": "448ba65b-2efe-40d8-a076-3ac3fa636598",
     "showTitle": false,
     "title": ""
    }
   },
   "outputs": [],
   "source": [
    "spark.sql(\"SELECT * FROM events\").write.mode(\"overwrite\").parquet(\"/FileStore/orlen/mobile-application-events/events.parquet\")"
   ]
  }
 ],
 "metadata": {
  "application/vnd.databricks.v1+notebook": {
   "dashboards": [
    {
     "elements": [],
     "globalVars": {},
     "guid": "",
     "layoutOption": {
      "grid": true,
      "stack": true
     },
     "nuid": "77021991-748d-4956-8d4d-bdcf807771aa",
     "origId": 4181687578477694,
     "title": "Untitled",
     "version": "DashboardViewV1",
     "width": 1024
    }
   ],
   "language": "python",
   "notebookMetadata": {
    "mostRecentlyExecutedCommandWithImplicitDF": {
     "commandId": -1,
     "dataframes": [
      "_sqldf"
     ]
    },
    "pythonIndentUnit": 4
   },
   "notebookName": "Registration error - data generator",
   "widgets": {}
  }
 },
 "nbformat": 4,
 "nbformat_minor": 0
}
